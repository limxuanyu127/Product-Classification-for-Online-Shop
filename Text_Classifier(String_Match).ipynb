{
  "nbformat": 4,
  "nbformat_minor": 0,
  "metadata": {
    "colab": {
      "name": "xy_stringmatch_nomatch_split",
      "provenance": []
    },
    "kernelspec": {
      "name": "python3",
      "display_name": "Python 3"
    },
    "accelerator": "GPU"
  },
  "cells": [
    {
      "cell_type": "code",
      "metadata": {
        "id": "817rQTNRjcZs",
        "colab_type": "code",
        "colab": {}
      },
      "source": [
        "import glob\n",
        "\n",
        "# Importing drive method from colab for accessing google drive\n",
        "from google.colab import drive"
      ],
      "execution_count": 0,
      "outputs": []
    },
    {
      "cell_type": "code",
      "metadata": {
        "id": "mVXK4BBqTAmu",
        "colab_type": "code",
        "outputId": "0722a861-3c05-4535-f7aa-090f9175b9f3",
        "colab": {
          "base_uri": "https://localhost:8080/",
          "height": 52
        }
      },
      "source": [
        "!ls"
      ],
      "execution_count": 0,
      "outputs": [
        {
          "output_type": "stream",
          "text": [
            "df_matched\tdf_not_matched.csv  fashion_stringmatch_dnn.csv\n",
            "df_matched.csv\tdrive\t\t    sample_data\n"
          ],
          "name": "stdout"
        }
      ]
    },
    {
      "cell_type": "code",
      "metadata": {
        "id": "yG2lclWcj_7M",
        "colab_type": "code",
        "outputId": "a62f7fac-46db-4e12-9e07-59dfe59fd9a6",
        "colab": {
          "base_uri": "https://localhost:8080/",
          "height": 126
        }
      },
      "source": [
        "# Mounting drive\n",
        "# This will require authentication : Follow the steps as guided\n",
        "drive.mount('/content/drive')"
      ],
      "execution_count": 0,
      "outputs": [
        {
          "output_type": "stream",
          "text": [
            "Go to this URL in a browser: https://accounts.google.com/o/oauth2/auth?client_id=947318989803-6bn6qk8qdgf4n4g3pfee6491hc0brc4i.apps.googleusercontent.com&redirect_uri=urn%3Aietf%3Awg%3Aoauth%3A2.0%3Aoob&scope=email%20https%3A%2F%2Fwww.googleapis.com%2Fauth%2Fdocs.test%20https%3A%2F%2Fwww.googleapis.com%2Fauth%2Fdrive%20https%3A%2F%2Fwww.googleapis.com%2Fauth%2Fdrive.photos.readonly%20https%3A%2F%2Fwww.googleapis.com%2Fauth%2Fpeopleapi.readonly&response_type=code\n",
            "\n",
            "Enter your authorization code:\n",
            "··········\n",
            "Mounted at /content/drive\n"
          ],
          "name": "stdout"
        }
      ]
    },
    {
      "cell_type": "code",
      "metadata": {
        "id": "JLGK11ZGmR-Z",
        "colab_type": "code",
        "outputId": "7ad1ce87-e8d9-4a8a-d695-1fc4d5e858f1",
        "colab": {
          "base_uri": "https://localhost:8080/",
          "height": 639
        }
      },
      "source": [
        "!ls \"/content/drive/My Drive/\"\n"
      ],
      "execution_count": 0,
      "outputs": [
        {
          "output_type": "stream",
          "text": [
            " 01d372957654dad05db5fa36451b5854.jpg   8825d01d1e5f9e4a0335b5cabe66c9fa.jpg\n",
            " 064a7ac32cecb53767d4c53924ad360e.jpg   8d08f1098529cedd36ef9dea3c766f08.jpg\n",
            " 0c392b5acdb4ae7fc6078f21cc882296.jpg   92754481a52cfe5b928166699b32e340.jpg\n",
            " 0cbd53a84d01a8019f1b7ef925637c68.jpg   94dd1c85a2b4c4d5dd50a0c1e2752f02.jpg\n",
            " 17fab75058dfaa866747de6a8380a0fa.jpg   9664112f39f8ee5dfade79a23fb863ac.jpg\n",
            " 25c6a756eab431cd7e5e7a96acb48d9e.jpg   9aa9ca9780aed7d070917e9c4a17df91.jpg\n",
            " 2c3103564b75cbed741cb995cc60e620.jpg   9fe2867e00bf591aa4f57014611baaa1.jpg\n",
            " 30daf99b481bf59fce449411c30dbd88.jpg   a8a4db6aa5f3aa8d071434dabcb85f87.jpg\n",
            " 32e6a22d6cf7b4c95ace4c45e9f21fe2.jpg   add4e5dbbffed1da5c8aeb4a88ab1386.jpg\n",
            " 3432c4ece2ca7e9fa81ce1dd1788f231.jpg   b2232d4db391a469db24608baad13bf5.jpg\n",
            " 37305459e6e58e30cdf9993879c9aa7e.jpg   b401464a6ea7c5a3aba2cc2d11421bc1.jpg\n",
            " 3d47ff1a7ffda5e8c15f09ecbcd79df8.jpg   b56b8bacc1bc8549c7845ee25b6eaca5.jpg\n",
            " 3fba8cc63bddc24ad70de51dfd66f5c5.jpg   bcd5940512f0a3c696e2040d9afa1331.jpg\n",
            " 41dcf63fcc3ef576db971d201de20f79.jpg   c34c9389fd856702d9ff4d9636711fc5.jpg\n",
            " 4665b451a76c5607a4594d04858bf30e.jpg   c51d61de7801ae1a28de4e0c177ed63a.jpg\n",
            " 47a2f48ca5fa94eeb7a6d1d8e711243c.jpg   c9c691ae4dcf0e9c562fe5e04be3b9bc.jpg\n",
            " 490fdfa833c333a1bae820c0df4b5fdb.jpg   ca212563fe26d5deda122f0c533a079a.jpg\n",
            " 5\t\t\t\t        cd319cc99cbf86f3aef1d45f1bb6becb.jpg\n",
            " 51c8cfb6091c51fffc6d096c397c8270.jpg   ce413ed0d461e9dfe5e3754c0a213297.jpg\n",
            " 554e41f11de14a06dafc5a9262edf1c4.jpg  'Colab Notebooks'\n",
            " 5be8e485610bcb2791bb73fad6778f59.jpg   d8db1f15a65f7616b7e5c68c95fe47ef.jpg\n",
            " 5c59746345bd256dcdfa08b943babb72.jpg   da5a9adc6adb0bd8c4f5bd89c6d824b6.jpg\n",
            " 5fbc3785fd0a599a88f1e994ccf381f3.jpg   e2cd00beda4b482b93b62c677233d23e.jpg\n",
            " 616620bf6bb7c5c4f1b5dcbbb090216b.jpg   e74675a693975cb89cedae22cf94ab4b.jpg\n",
            " 6eb4be6675e60f4ccb2eb80e3e1d0a61.jpg   ea30be106670cb8ab63541f36c18e4b6.jpg\n",
            " 715aac03ec386d8d1a9aeed9d2aaf4d6.jpg   ee98af2b8b1abb9071c36a58c9465cd7.jpg\n",
            " 74b39ec80502004f4f01cde66d0c9390.jpg   efd3df59bdefaeccf76eae00844dbf79.jpg\n",
            " 74f14cecbfab327e1059b4caa213ebda.jpg   f2e26f99346366b42d9cc7999c982104.jpg\n",
            " 74f863af4668c0b010a05f52e11603ec.jpg   f45e308a1abd67f9f11e4f8371bde7a4.jpg\n",
            " 78e50853ad15cc8fde281302145fbb7c.jpg   f5f8fbefca5a8f289c123cd889d08e97.jpg\n",
            " 79eabe3ce3618ac4259197be694fec47.jpg   f7c8d709378ef41ac0102be3b15a1691.jpg\n",
            " 7c697f374c8f1b5351af58038049ac11.jpg   models\n",
            " 7d3e9ce6be1c5c202222754a5f3c5e64.jpg   NDSC\n",
            " 7eafa3c76b57457e29c6b54b9a6d3e0a.jpg  'Untitled document.gdoc'\n",
            " 8580ab7765529cd234bd24024cf948de.jpg  'Untitled Folder'\n"
          ],
          "name": "stdout"
        }
      ]
    },
    {
      "cell_type": "markdown",
      "metadata": {
        "id": "noZ7NHS_kcFs",
        "colab_type": "text"
      },
      "source": [
        "## Split the df"
      ]
    },
    {
      "cell_type": "code",
      "metadata": {
        "id": "5_HunH01kgPV",
        "colab_type": "code",
        "outputId": "d4e37104-8012-4bd6-a4e1-76c6a946b99a",
        "colab": {
          "base_uri": "https://localhost:8080/",
          "height": 200
        }
      },
      "source": [
        "import pandas as pd\n",
        "\n",
        "testset = pd.read_csv(\"/content/drive/My Drive/NDSC/data/test.csv\")\n",
        "df_test = fashion_test = testset.iloc[76545:131985]\n",
        "\n",
        "df_test_predict = df_test\n",
        "df_test.head()\n",
        "\n"
      ],
      "execution_count": 0,
      "outputs": [
        {
          "output_type": "execute_result",
          "data": {
            "text/html": [
              "<div>\n",
              "<style scoped>\n",
              "    .dataframe tbody tr th:only-of-type {\n",
              "        vertical-align: middle;\n",
              "    }\n",
              "\n",
              "    .dataframe tbody tr th {\n",
              "        vertical-align: top;\n",
              "    }\n",
              "\n",
              "    .dataframe thead th {\n",
              "        text-align: right;\n",
              "    }\n",
              "</style>\n",
              "<table border=\"1\" class=\"dataframe\">\n",
              "  <thead>\n",
              "    <tr style=\"text-align: right;\">\n",
              "      <th></th>\n",
              "      <th>itemid</th>\n",
              "      <th>title</th>\n",
              "      <th>image_path</th>\n",
              "    </tr>\n",
              "  </thead>\n",
              "  <tbody>\n",
              "    <tr>\n",
              "      <th>76545</th>\n",
              "      <td>670968580</td>\n",
              "      <td>women casual o neck long sleeve lace patchwork...</td>\n",
              "      <td>fashion_image/b0ca9645c5c3527882d935f17b4c9579...</td>\n",
              "    </tr>\n",
              "    <tr>\n",
              "      <th>76546</th>\n",
              "      <td>475599610</td>\n",
              "      <td>zaful long dress vintage wanita v neck lengan ...</td>\n",
              "      <td>fashion_image/c74af2636e9fe2686981decce3ca5b6c...</td>\n",
              "    </tr>\n",
              "    <tr>\n",
              "      <th>76547</th>\n",
              "      <td>1652671018</td>\n",
              "      <td>dress skater swing o neck tanpa lengan desain ...</td>\n",
              "      <td>fashion_image/1f2a2d91f5eb2d80f1dfdcf0b1f50169...</td>\n",
              "    </tr>\n",
              "    <tr>\n",
              "      <th>76548</th>\n",
              "      <td>1705634904</td>\n",
              "      <td>ok dress slim sexy deep v neck lengan panjang ...</td>\n",
              "      <td>fashion_image/fdb6309635ebb5eac5df9c61984ffce5...</td>\n",
              "    </tr>\n",
              "    <tr>\n",
              "      <th>76549</th>\n",
              "      <td>1789421087</td>\n",
              "      <td>noa korean lace embroidery womens crew neck lo...</td>\n",
              "      <td>fashion_image/578e5c74e97128cd25378ef0f0c021cf...</td>\n",
              "    </tr>\n",
              "  </tbody>\n",
              "</table>\n",
              "</div>"
            ],
            "text/plain": [
              "           itemid                                              title  \\\n",
              "76545   670968580  women casual o neck long sleeve lace patchwork...   \n",
              "76546   475599610  zaful long dress vintage wanita v neck lengan ...   \n",
              "76547  1652671018  dress skater swing o neck tanpa lengan desain ...   \n",
              "76548  1705634904  ok dress slim sexy deep v neck lengan panjang ...   \n",
              "76549  1789421087  noa korean lace embroidery womens crew neck lo...   \n",
              "\n",
              "                                              image_path  \n",
              "76545  fashion_image/b0ca9645c5c3527882d935f17b4c9579...  \n",
              "76546  fashion_image/c74af2636e9fe2686981decce3ca5b6c...  \n",
              "76547  fashion_image/1f2a2d91f5eb2d80f1dfdcf0b1f50169...  \n",
              "76548  fashion_image/fdb6309635ebb5eac5df9c61984ffce5...  \n",
              "76549  fashion_image/578e5c74e97128cd25378ef0f0c021cf...  "
            ]
          },
          "metadata": {
            "tags": []
          },
          "execution_count": 76
        }
      ]
    },
    {
      "cell_type": "code",
      "metadata": {
        "id": "i1F-0BYBmhpp",
        "colab_type": "code",
        "outputId": "87360c45-9ed5-4d6b-cbc4-8b4acfa4db3f",
        "colab": {
          "base_uri": "https://localhost:8080/",
          "height": 55
        }
      },
      "source": [
        "import json\n",
        "\n",
        "with open('/content/drive/My Drive/NDSC/data/2_fashion_categories.json') as f:\n",
        "    fashion_categories_json = json.load(f)\n",
        "\n",
        "# process category.json into another dictionary suitable for the string matching library\n",
        "fashion_category_titles = {}\n",
        "for fashion_category_class in fashion_categories_json:\n",
        "    for fashion_category_name in fashion_categories_json[fashion_category_class]:\n",
        "        fashion_category_titles[fashion_categories_json[fashion_category_class][fashion_category_name]] = fashion_category_name\n",
        "print(fashion_category_titles)  \n",
        "\n",
        "# keywords_df=pd.read_csv(\"/content/drive/My Drive/NDSC/fashion_keywords.csv\")\n",
        "# list_keywords = keywords_df['keywords'].values.tolist()\n",
        "\n"
      ],
      "execution_count": 0,
      "outputs": [
        {
          "output_type": "stream",
          "text": [
            "{23: 'Wedding Dress', -23: 'bride', 18: 'Casual Dress', 20: 'Maxi Dress', 24: 'Big Size Dress', 22: 'Bodycon', 19: 'Party Dress', 26: 'Blouse', -26: 'blus', 29: 'Crop Top ', 28: 'Tanktop', 21: 'Line Dress', 30: 'Big Size Top', -30: 'xl'}\n"
          ],
          "name": "stdout"
        }
      ]
    },
    {
      "cell_type": "code",
      "metadata": {
        "id": "AG7dNp2O0S5U",
        "colab_type": "code",
        "outputId": "2f70521f-ddcc-4ccd-8b47-435cfbb4a502",
        "colab": {
          "base_uri": "https://localhost:8080/",
          "height": 88
        }
      },
      "source": [
        "!pip install fuzzywuzzy"
      ],
      "execution_count": 0,
      "outputs": [
        {
          "output_type": "stream",
          "text": [
            "Collecting fuzzywuzzy\n",
            "  Downloading https://files.pythonhosted.org/packages/d8/f1/5a267addb30ab7eaa1beab2b9323073815da4551076554ecc890a3595ec9/fuzzywuzzy-0.17.0-py2.py3-none-any.whl\n",
            "Installing collected packages: fuzzywuzzy\n",
            "Successfully installed fuzzywuzzy-0.17.0\n"
          ],
          "name": "stdout"
        }
      ]
    },
    {
      "cell_type": "code",
      "metadata": {
        "id": "f9aGfocf-pKR",
        "colab_type": "code",
        "colab": {}
      },
      "source": [
        "from fuzzywuzzy import process\n",
        "from fuzzywuzzy import fuzz\n",
        "\n",
        "from tqdm import tqdm  # progress bar"
      ],
      "execution_count": 0,
      "outputs": []
    },
    {
      "cell_type": "code",
      "metadata": {
        "id": "cdxzdIMQO8f8",
        "colab_type": "code",
        "outputId": "6c0248f7-dc90-48ac-ef70-6ed91125e935",
        "colab": {
          "base_uri": "https://localhost:8080/",
          "height": 550
        }
      },
      "source": [
        "\n",
        "import keras\n",
        "from keras.models import Sequential, model_from_json\n",
        "from keras.models import Model\n",
        "from keras.layers import InputLayer, Input\n",
        "from keras.layers import Reshape, MaxPooling2D\n",
        "#from tensorflow.python.keras.layers import Conv2D, Dense, Flatten, Concatenate, concatenate, Dropout\n",
        "from keras.layers import concatenate, Concatenate, Conv2D, Dense, Flatten, Dropout\n",
        "from keras.preprocessing.image import ImageDataGenerator, image\n",
        "\n",
        "json_file = open('/content/drive/My Drive/models/75_fashion.json','r')\n",
        "loaded_model_json = json_file.read()\n",
        "json_file.close()\n",
        "fashion_text_model = model_from_json(loaded_model_json)\n",
        "fashion_text_model.load_weights(\"/content/drive/My Drive/models/75_fashion.h5\")\n",
        "print(\"Loaded model from disk\")\n",
        "# fashion_text_model = Model(fashion_text_model.input, last_layer)\n",
        "fashion_text_model.compile(loss='categorical_crossentropy',\n",
        "              optimizer='adam',\n",
        "              metrics=['accuracy'])\n",
        "fashion_text_model.summary()"
      ],
      "execution_count": 0,
      "outputs": [
        {
          "output_type": "stream",
          "text": [
            "Loaded model from disk\n",
            "_________________________________________________________________\n",
            "Layer (type)                 Output Shape              Param #   \n",
            "=================================================================\n",
            "dense_5 (Dense)              (None, 512)               512512    \n",
            "_________________________________________________________________\n",
            "activation_5 (Activation)    (None, 512)               0         \n",
            "_________________________________________________________________\n",
            "dropout_4 (Dropout)          (None, 512)               0         \n",
            "_________________________________________________________________\n",
            "dense_6 (Dense)              (None, 512)               262656    \n",
            "_________________________________________________________________\n",
            "activation_6 (Activation)    (None, 512)               0         \n",
            "_________________________________________________________________\n",
            "dropout_5 (Dropout)          (None, 512)               0         \n",
            "_________________________________________________________________\n",
            "dense_7 (Dense)              (None, 512)               262656    \n",
            "_________________________________________________________________\n",
            "activation_7 (Activation)    (None, 512)               0         \n",
            "_________________________________________________________________\n",
            "dropout_6 (Dropout)          (None, 512)               0         \n",
            "_________________________________________________________________\n",
            "dense_8 (Dense)              (None, 31)                15903     \n",
            "_________________________________________________________________\n",
            "activation_8 (Activation)    (None, 31)                0         \n",
            "=================================================================\n",
            "Total params: 1,053,727\n",
            "Trainable params: 1,053,727\n",
            "Non-trainable params: 0\n",
            "_________________________________________________________________\n"
          ],
          "name": "stdout"
        }
      ]
    },
    {
      "cell_type": "code",
      "metadata": {
        "id": "nxksxrNrsaUQ",
        "colab_type": "code",
        "colab": {}
      },
      "source": [
        "from fuzzywuzzy import process\n",
        "from fuzzywuzzy import fuzz\n",
        "from tqdm import tqdm  # progress bar"
      ],
      "execution_count": 0,
      "outputs": []
    },
    {
      "cell_type": "code",
      "metadata": {
        "id": "5u3rlmhLlkLG",
        "colab_type": "code",
        "colab": {}
      },
      "source": [
        "\n",
        "\n",
        "# fuzzy string matching\n",
        "# https://github.com/seatgeek/fuzzywuzzy\n",
        "# on how to return index instead of the value\n",
        "# https://github.com/seatgeek/fuzzywuzzy/issues/165\n",
        "# prediction = []\n",
        "\n",
        "df_matched = pd.DataFrame(columns=['itemid', 'title', 'category'])\n",
        "df_not_matched = pd.DataFrame(columns=['itemid', 'title'])\n",
        "threshold=100\n",
        "\n",
        "\n",
        "for index, row in df_test.iterrows():\n",
        "  itemid=row['itemid']\n",
        "  title=row['title']\n",
        "  low=[]\n",
        "  \n",
        "  predicted = process.extract(title, fashion_category_titles, scorer=fuzz.partial_ratio)\n",
        "\n",
        "  for item in predicted:\n",
        "    if item[1]<threshold:\n",
        "      low.append(item)\n",
        "\n",
        "  for item in low:\n",
        "    predicted.remove(item)\n",
        "    \n",
        "    \n",
        "  if len(predicted) ==1:\n",
        "    predicted_cat=predicted[0][2]\n",
        "    data = [itemid,title,predicted_cat]\n",
        "    df2=pd.DataFrame(columns=['itemid', 'title', 'category'], data=[data])\n",
        "    df2['itemid']=itemid\n",
        "    df2['title']=title\n",
        "    df2['category']=predicted_cat\n",
        "    df_matched = df_matched.append(df2, ignore_index=True)\n",
        "  \n",
        "  else:\n",
        "    data = [itemid,title]\n",
        "    df2=pd.DataFrame(columns=['itemid', 'title'], data=[data])\n",
        "    df_not_matched = df_not_matched.append(df2, ignore_index=True)\n",
        "    \n",
        "\n",
        "   "
      ],
      "execution_count": 0,
      "outputs": []
    },
    {
      "cell_type": "code",
      "metadata": {
        "id": "UVI6dpwiVuRa",
        "colab_type": "code",
        "colab": {}
      },
      "source": [
        "import os\n",
        "os.chdir(\"/content/drive/My Drive/Colab Notebooks/\")"
      ],
      "execution_count": 0,
      "outputs": []
    },
    {
      "cell_type": "code",
      "metadata": {
        "id": "rSPEdhwFQ7gA",
        "colab_type": "code",
        "colab": {}
      },
      "source": [
        "import itertools\n",
        "import os\n",
        "\n",
        "%matplotlib inline\n",
        "import matplotlib.pyplot as plt\n",
        "import numpy as np\n",
        "import pandas as pd\n",
        "import tensorflow as tf\n",
        "\n",
        "from sklearn.preprocessing import LabelBinarizer, LabelEncoder\n",
        "from sklearn.metrics import confusion_matrix\n",
        "\n",
        "from tensorflow import keras\n",
        "from keras.models import Sequential\n",
        "from keras.layers import Dense, Activation, Dropout\n",
        "from keras.preprocessing import text, sequence\n",
        "from keras import utils\n",
        "\n",
        "\n",
        "from nltk.corpus import stopwords\n",
        "import re\n",
        "from bs4 import BeautifulSoup\n",
        "%matplotlib inline"
      ],
      "execution_count": 0,
      "outputs": []
    },
    {
      "cell_type": "code",
      "metadata": {
        "id": "zXrGoEavYGFg",
        "colab_type": "code",
        "colab": {}
      },
      "source": [
        "unmatched_test_title = df_not_matched['title']\n",
        "max_words = 1000\n",
        "batch_size = 500\n",
        "tokenize = text.Tokenizer(num_words=max_words, char_level=False)\n",
        "\n",
        "train = pd.read_csv('/content/drive/My Drive/NDSC/data/train.csv')\n",
        "fashion_train = train.iloc[286583:506285]\n",
        "train_title = fashion_train['title']\n",
        "tokenize.fit_on_texts(train_title) # only fit on train"
      ],
      "execution_count": 0,
      "outputs": []
    },
    {
      "cell_type": "code",
      "metadata": {
        "id": "EqWyLHJq7tGv",
        "colab_type": "code",
        "outputId": "9d234050-95c2-4e2c-b189-bafe153ae4b6",
        "colab": {
          "base_uri": "https://localhost:8080/",
          "height": 35
        }
      },
      "source": [
        "x_test = tokenize.texts_to_matrix(unmatched_test_title)\n",
        "unmatched_test_predict = fashion_text_model.predict(x_test, batch_size=batch_size, verbose=1)\n",
        "unmatched_test_predict = pd.DataFrame(data=unmatched_test_predict)\n",
        "unmatched_test_predict = unmatched_test_predict.idxmax(axis=1)\n",
        "\n"
      ],
      "execution_count": 0,
      "outputs": [
        {
          "output_type": "stream",
          "text": [
            "36391/36391 [==============================] - 0s 11us/step\n"
          ],
          "name": "stdout"
        }
      ]
    },
    {
      "cell_type": "code",
      "metadata": {
        "id": "W6cf-znnFDKz",
        "colab_type": "code",
        "colab": {}
      },
      "source": [
        "unmatched_test_predict['prediction'] = unmatched_test_predict\n"
      ],
      "execution_count": 0,
      "outputs": []
    },
    {
      "cell_type": "code",
      "metadata": {
        "id": "R4kKq0PmHpkW",
        "colab_type": "code",
        "colab": {}
      },
      "source": [
        "\n",
        "df_not_matched['category']=unmatched_test_predict"
      ],
      "execution_count": 0,
      "outputs": []
    },
    {
      "cell_type": "code",
      "metadata": {
        "id": "b085chlZIVgw",
        "colab_type": "code",
        "colab": {}
      },
      "source": [
        "import os\n",
        "os.chdir(\"/content/drive/My Drive/Colab Notebooks/\")"
      ],
      "execution_count": 0,
      "outputs": []
    },
    {
      "cell_type": "code",
      "metadata": {
        "id": "uppc3BUuBX_l",
        "colab_type": "code",
        "colab": {}
      },
      "source": [
        "predictions = df_matched.append(df_not_matched,ignore_index=True) \n",
        "predictions = pd.merge(fashion_test, predictions,on=\"itemid\", how='inner')\n",
        "predictions.to_csv(\"fashion_stringmatch_dnn_7.csv\")\n",
        "\n",
        "from google.colab import files\n",
        "files.download(\"/content/drive/My Drive/Colab Notebooks/fashion_stringmatch_dnn_7.csv\")"
      ],
      "execution_count": 0,
      "outputs": []
    },
    {
      "cell_type": "code",
      "metadata": {
        "id": "vAodXu_wINx3",
        "colab_type": "code",
        "outputId": "accc1245-d4ad-436f-e257-1a27ed318ee0",
        "colab": {
          "base_uri": "https://localhost:8080/",
          "height": 461
        }
      },
      "source": [
        "!ls"
      ],
      "execution_count": 0,
      "outputs": [
        {
          "output_type": "stream",
          "text": [
            " 2_df_matched.csv\n",
            " 2_df_not_matched.csv\n",
            " 3_df_matched.csv\n",
            " 3_df_not_matched.csv\n",
            "'75% fashion (2).ipynb'\n",
            " combined_v1.ipynb\n",
            "'Copy of Text Classifier(Bag of words).ipynb'\n",
            "'Copy of xy_test'\n",
            " df_matched.csv\n",
            " df_not_matched.csv\n",
            "'fashion_stringmatch_dnn (1).gsheet'\n",
            " fashion_stringmatch_dnn_3.csv\n",
            " fashion_stringmatch_dnn.csv\n",
            " fashion_stringmatch_dnn.gsheet\n",
            "'preprocessing test.ipynb'\n",
            " test.ipynb\n",
            " Untitled0.ipynb\n",
            " Untitled1.ipynb\n",
            " Untitled2.ipynb\n",
            " Untitled3.ipynb\n",
            " Untitled4.ipynb\n",
            " xy_common_words_fashion.ipynb\n",
            " xy_stringmatch_nomatch_split.ipynb\n",
            " xy_test.ipynb\n",
            "'(YeeHan) Accessing Data from Google Drive.ipynb'\n"
          ],
          "name": "stdout"
        }
      ]
    },
    {
      "cell_type": "markdown",
      "metadata": {
        "id": "3JAt8HK--TCs",
        "colab_type": "text"
      },
      "source": [
        "## THE END"
      ]
    },
    {
      "cell_type": "code",
      "metadata": {
        "id": "E2Do8cyD_p3b",
        "colab_type": "code",
        "colab": {}
      },
      "source": [
        "title1 = \"focallure kaos t shirt longgar cold shoulder lengan panjang warna polos untuk wanita\"\n",
        "title1 = \"women casual o neck long sleeve lace patchwork a line pleated sexy dress\""
      ],
      "execution_count": 0,
      "outputs": []
    },
    {
      "cell_type": "code",
      "metadata": {
        "id": "maddWFrf0IWu",
        "colab_type": "code",
        "outputId": "56682020-5062-4ece-ea66-18743a06e29e",
        "colab": {
          "base_uri": "https://localhost:8080/",
          "height": 70
        }
      },
      "source": [
        "predicted1 = process.extract(title1,fashion_category_titles, scorer=fuzz.ratio)\n",
        "print(predicted1)\n",
        "print(len(predicted1))\n",
        "print(predicted1[0][0])"
      ],
      "execution_count": 0,
      "outputs": [
        {
          "output_type": "stream",
          "text": [
            "[('Shirt', 38, 27), ('Tshirt', 37, 25), ('Party Dress', 31, 19), ('Casual Dress', 30, 18), ('A Line Dress', 30, 21)]\n",
            "5\n",
            "Shirt\n"
          ],
          "name": "stdout"
        }
      ]
    },
    {
      "cell_type": "code",
      "metadata": {
        "id": "5l2s-AnV_JAB",
        "colab_type": "code",
        "outputId": "27a899ad-db64-42c9-c178-61d3a9d5b2d4",
        "colab": {
          "base_uri": "https://localhost:8080/",
          "height": 256
        }
      },
      "source": [
        "predicted1 = process.extract(title1,fashion_category_titles, scorer=fuzz.partial_ratio)\n",
        "print(predicted1)\n",
        "\n",
        "# print(predicted1[2])\n",
        "threshold=99\n",
        "\n",
        "low =[]\n",
        "\n",
        "print(len(predicted1))\n",
        "for item in predicted1:\n",
        "  if item[1]<threshold:\n",
        "    low.append(item)\n",
        "\n",
        "for item in low:\n",
        "  predicted1.remove(item)\n",
        "print(predicted1)"
      ],
      "execution_count": 0,
      "outputs": [
        {
          "output_type": "stream",
          "text": [
            "[('maxy dress', 80, -20), ('Maxi Dress', 70, 20), ('Line Dress', 70, 21), ('Casual Dress', 67, 18), ('Big Size Dress', 64, 24)]\n",
            "5\n",
            "[]\n"
          ],
          "name": "stdout"
        },
        {
          "output_type": "error",
          "ename": "IndexError",
          "evalue": "ignored",
          "traceback": [
            "\u001b[0;31m---------------------------------------------------------------------------\u001b[0m",
            "\u001b[0;31mIndexError\u001b[0m                                Traceback (most recent call last)",
            "\u001b[0;32m<ipython-input-62-a5238ef37b9d>\u001b[0m in \u001b[0;36m<module>\u001b[0;34m()\u001b[0m\n\u001b[1;32m     16\u001b[0m \u001b[0mprint\u001b[0m\u001b[0;34m(\u001b[0m\u001b[0mpredicted1\u001b[0m\u001b[0;34m)\u001b[0m\u001b[0;34m\u001b[0m\u001b[0;34m\u001b[0m\u001b[0m\n\u001b[1;32m     17\u001b[0m \u001b[0;34m\u001b[0m\u001b[0m\n\u001b[0;32m---> 18\u001b[0;31m \u001b[0mprint\u001b[0m\u001b[0;34m(\u001b[0m\u001b[0mpredicted1\u001b[0m\u001b[0;34m[\u001b[0m\u001b[0;36m0\u001b[0m\u001b[0;34m]\u001b[0m\u001b[0;34m[\u001b[0m\u001b[0;36m2\u001b[0m\u001b[0;34m]\u001b[0m\u001b[0;34m)\u001b[0m\u001b[0;34m\u001b[0m\u001b[0;34m\u001b[0m\u001b[0m\n\u001b[0m",
            "\u001b[0;31mIndexError\u001b[0m: list index out of range"
          ]
        }
      ]
    },
    {
      "cell_type": "code",
      "metadata": {
        "id": "rmoHFsv_TRSM",
        "colab_type": "code",
        "outputId": "09f70b19-fa15-428c-85e3-dfea0cdbd9f9",
        "colab": {
          "base_uri": "https://localhost:8080/",
          "height": 35
        }
      },
      "source": [
        "!mv df_matched.csv df_not_matched.csv /drive/My Drive/NDSC/data/"
      ],
      "execution_count": 0,
      "outputs": [
        {
          "output_type": "stream",
          "text": [
            "mv: target 'Drive/NDSC/data/' is not a directory\n"
          ],
          "name": "stdout"
        }
      ]
    },
    {
      "cell_type": "code",
      "metadata": {
        "id": "dwWzblST0ZFn",
        "colab_type": "code",
        "colab": {}
      },
      "source": [
        "df_test['Category'] = prediction\n",
        "df_submit = df_test[['itemid', 'Category']].copy()\n",
        "df_submit.to_csv('submission.csv', index=False)"
      ],
      "execution_count": 0,
      "outputs": []
    },
    {
      "cell_type": "code",
      "metadata": {
        "id": "GHxurSFjg9UZ",
        "colab_type": "code",
        "colab": {}
      },
      "source": [
        "fashion_predictions = pd.read_csv('/content/drive/My Drive/Colab Notebooks/fashion_stringmatch_dnn.csv')"
      ],
      "execution_count": 0,
      "outputs": []
    },
    {
      "cell_type": "code",
      "metadata": {
        "id": "v2p_Wd69hPDT",
        "colab_type": "code",
        "colab": {}
      },
      "source": [
        "for index, row in fashion_predictions.iterrows():\n",
        "  cat_num=row['category']\n",
        "  if cat_num <17:\n",
        "    new_num=cat_num+17\n",
        "    fashion_predictions = fashion_predictions.replace({'category':row}, new_num)"
      ],
      "execution_count": 0,
      "outputs": []
    },
    {
      "cell_type": "code",
      "metadata": {
        "id": "1pwkGFbHjf8e",
        "colab_type": "code",
        "colab": {}
      },
      "source": [
        "import os\n",
        "os.chdir(\"/content/drive/My Drive/Colab Notebooks/\")"
      ],
      "execution_count": 0,
      "outputs": []
    },
    {
      "cell_type": "code",
      "metadata": {
        "id": "pGQfCUEejLui",
        "colab_type": "code",
        "colab": {}
      },
      "source": [
        "fashion_predictions.to_csv(\"1_fashion_predictions.csv\")\n",
        "from google.colab import files\n",
        "files.download(\"/content/drive/My Drive/Colab Notebooks/1_fashion_predictions.csv\")"
      ],
      "execution_count": 0,
      "outputs": []
    }
  ]
}