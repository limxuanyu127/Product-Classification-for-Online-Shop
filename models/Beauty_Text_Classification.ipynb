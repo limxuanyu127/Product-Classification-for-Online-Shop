{
 "cells": [
  {
   "cell_type": "code",
   "execution_count": 1,
   "metadata": {},
   "outputs": [
    {
     "name": "stderr",
     "output_type": "stream",
     "text": [
      "C:\\Users\\ZhiQi\\Anaconda3\\lib\\site-packages\\gensim\\utils.py:1197: UserWarning: detected Windows; aliasing chunkize to chunkize_serial\n",
      "  warnings.warn(\"detected Windows; aliasing chunkize to chunkize_serial\")\n",
      "Using TensorFlow backend.\n"
     ]
    },
    {
     "data": {
      "text/plain": [
       "'/device:GPU:0'"
      ]
     },
     "execution_count": 1,
     "metadata": {},
     "output_type": "execute_result"
    }
   ],
   "source": [
    "import logging\n",
    "import pandas as pd\n",
    "import numpy as np\n",
    "from numpy import random\n",
    "import gensim\n",
    "import nltk\n",
    "# nltk.download('stopwords')\n",
    "from sklearn.model_selection import train_test_split\n",
    "from sklearn.feature_extraction.text import CountVectorizer, TfidfVectorizer\n",
    "from sklearn.metrics import accuracy_score, confusion_matrix\n",
    "import matplotlib.pyplot as plt\n",
    "from nltk.corpus import stopwords\n",
    "import re\n",
    "from bs4 import BeautifulSoup\n",
    "from keras.layers import Dense, Input\n",
    "from keras.layers.merge import concatenate\n",
    "%matplotlib inline\n",
    "import tensorflow as tf\n",
    "tf.test.gpu_device_name()"
   ]
  },
  {
   "cell_type": "code",
   "execution_count": 2,
   "metadata": {},
   "outputs": [
    {
     "data": {
      "text/html": [
       "<div>\n",
       "<style scoped>\n",
       "    .dataframe tbody tr th:only-of-type {\n",
       "        vertical-align: middle;\n",
       "    }\n",
       "\n",
       "    .dataframe tbody tr th {\n",
       "        vertical-align: top;\n",
       "    }\n",
       "\n",
       "    .dataframe thead th {\n",
       "        text-align: right;\n",
       "    }\n",
       "</style>\n",
       "<table border=\"1\" class=\"dataframe\">\n",
       "  <thead>\n",
       "    <tr style=\"text-align: right;\">\n",
       "      <th></th>\n",
       "      <th>Unnamed: 0</th>\n",
       "      <th>Unnamed: 0.1</th>\n",
       "      <th>itemid</th>\n",
       "      <th>title</th>\n",
       "      <th>Category</th>\n",
       "      <th>image_path</th>\n",
       "    </tr>\n",
       "  </thead>\n",
       "  <tbody>\n",
       "    <tr>\n",
       "      <th>286578</th>\n",
       "      <td>286578</td>\n",
       "      <td>269922</td>\n",
       "      <td>1482463264</td>\n",
       "      <td>niceface lip stick cair warna metalik</td>\n",
       "      <td>12</td>\n",
       "      <td>beauty_image/a6d68c7eeb92793bbe4f24abc5b86304.jpg</td>\n",
       "    </tr>\n",
       "    <tr>\n",
       "      <th>286579</th>\n",
       "      <td>286579</td>\n",
       "      <td>51964</td>\n",
       "      <td>1069667925</td>\n",
       "      <td>innisfree no sebum mineral powder 5g</td>\n",
       "      <td>3</td>\n",
       "      <td>beauty_image/db67da6f6a585e20e9488992c96fdf1f.jpg</td>\n",
       "    </tr>\n",
       "    <tr>\n",
       "      <th>286580</th>\n",
       "      <td>286580</td>\n",
       "      <td>240225</td>\n",
       "      <td>1047451366</td>\n",
       "      <td>lacoco hydrating divine essence</td>\n",
       "      <td>1</td>\n",
       "      <td>beauty_image/dd0d7a99e050e6fcb1bf383655497d23.jpg</td>\n",
       "    </tr>\n",
       "    <tr>\n",
       "      <th>286581</th>\n",
       "      <td>286581</td>\n",
       "      <td>215190</td>\n",
       "      <td>1690921131</td>\n",
       "      <td>termurah etude house zero sebum drying powder</td>\n",
       "      <td>3</td>\n",
       "      <td>beauty_image/41c3262140a29e378dfae1d31d43fd1b.jpg</td>\n",
       "    </tr>\n",
       "    <tr>\n",
       "      <th>286582</th>\n",
       "      <td>286582</td>\n",
       "      <td>246128</td>\n",
       "      <td>41127878</td>\n",
       "      <td>milani face iluminating powder</td>\n",
       "      <td>8</td>\n",
       "      <td>beauty_image/8e7dff2ef8d3116d0c6bab97df2c8b00.jpg</td>\n",
       "    </tr>\n",
       "  </tbody>\n",
       "</table>\n",
       "</div>"
      ],
      "text/plain": [
       "        Unnamed: 0  Unnamed: 0.1      itemid  \\\n",
       "286578      286578        269922  1482463264   \n",
       "286579      286579         51964  1069667925   \n",
       "286580      286580        240225  1047451366   \n",
       "286581      286581        215190  1690921131   \n",
       "286582      286582        246128    41127878   \n",
       "\n",
       "                                                title  Category  \\\n",
       "286578          niceface lip stick cair warna metalik        12   \n",
       "286579           innisfree no sebum mineral powder 5g         3   \n",
       "286580                lacoco hydrating divine essence         1   \n",
       "286581  termurah etude house zero sebum drying powder         3   \n",
       "286582                 milani face iluminating powder         8   \n",
       "\n",
       "                                               image_path  \n",
       "286578  beauty_image/a6d68c7eeb92793bbe4f24abc5b86304.jpg  \n",
       "286579  beauty_image/db67da6f6a585e20e9488992c96fdf1f.jpg  \n",
       "286580  beauty_image/dd0d7a99e050e6fcb1bf383655497d23.jpg  \n",
       "286581  beauty_image/41c3262140a29e378dfae1d31d43fd1b.jpg  \n",
       "286582  beauty_image/8e7dff2ef8d3116d0c6bab97df2c8b00.jpg  "
      ]
     },
     "execution_count": 2,
     "metadata": {},
     "output_type": "execute_result"
    }
   ],
   "source": [
    "\n",
    "beauty = pd.read_csv('beauty_shuffled.csv')\n",
    "\n",
    "beauty_test['title'] = beauty_test.title.str.replace('lipstick', 'lip stick')\n",
    "beauty_test['title'] = beauty_test.title.str.replace('lipcream', 'lip cream')\n",
    "beauty_test['title'] = beauty_test.title.str.replace('lipcgloss', 'lip gloss')\n",
    "beauty_test['title'] = beauty_test.title.str.replace('lipliner', 'lip liner')\n",
    "beauty_test['title'] = beauty_test.title.str.replace('lipbalm', 'lip balm')\n",
    "beauty_test['title'] = beauty_test.title.str.replace('stik', 'stick')\n",
    "# beauty = train_set.iloc[:286583]\n",
    "\n",
    "# beauty = beauty.sample(frac=1)\n",
    "\n",
    "# beauty.to_csv('beauty_shuffled.csv')\n",
    "\n",
    "# fashion = train.iloc[286584:506285]\n",
    "# mobile = train_set.iloc[506285:]\n",
    " \n",
    "# testset = pd.read_csv('test.csv')\n",
    "# # fashion_test = testset.iloc[]\n",
    "# beauty_test = testset.iloc[:76545]\n",
    "# fashion_test = testset.iloc[76545:131985]\n",
    "# mobile_test = testset.iloc[131985:]\n",
    "beauty.tail()\n"
   ]
  },
  {
   "cell_type": "code",
   "execution_count": 3,
   "metadata": {},
   "outputs": [
    {
     "name": "stdout",
     "output_type": "stream",
     "text": [
      "Train on 229266 samples, validate on 57317 samples\n",
      "Epoch 1/20\n",
      "229266/229266 [==============================] - 22s 97us/step - loss: 1.5364 - acc: 0.5424 - val_loss: 0.9851 - val_acc: 0.7114\n",
      "Epoch 2/20\n",
      "229266/229266 [==============================] - 22s 95us/step - loss: 0.9123 - acc: 0.7295 - val_loss: 0.8178 - val_acc: 0.7548\n",
      "Epoch 3/20\n",
      "229266/229266 [==============================] - 20s 87us/step - loss: 0.7922 - acc: 0.7599 - val_loss: 0.7656 - val_acc: 0.7673\n",
      "Epoch 4/20\n",
      "229266/229266 [==============================] - 21s 91us/step - loss: 0.7342 - acc: 0.7740 - val_loss: 0.7448 - val_acc: 0.7739\n",
      "Epoch 5/20\n",
      "229266/229266 [==============================] - 17s 75us/step - loss: 0.6919 - acc: 0.7844 - val_loss: 0.7391 - val_acc: 0.7752\n",
      "Epoch 6/20\n",
      "229266/229266 [==============================] - 17s 74us/step - loss: 0.6568 - acc: 0.7940 - val_loss: 0.7294 - val_acc: 0.7788\n",
      "Epoch 7/20\n",
      "229266/229266 [==============================] - 17s 75us/step - loss: 0.6272 - acc: 0.8013 - val_loss: 0.7278 - val_acc: 0.7803\n",
      "Epoch 8/20\n",
      "229266/229266 [==============================] - 16s 72us/step - loss: 0.6013 - acc: 0.8096 - val_loss: 0.7280 - val_acc: 0.7822\n",
      "Epoch 9/20\n",
      "229266/229266 [==============================] - 16s 68us/step - loss: 0.5762 - acc: 0.8160 - val_loss: 0.7309 - val_acc: 0.7834\n",
      "Epoch 10/20\n",
      "229266/229266 [==============================] - 17s 76us/step - loss: 0.5545 - acc: 0.8229 - val_loss: 0.7382 - val_acc: 0.7852\n",
      "Epoch 11/20\n",
      "229266/229266 [==============================] - 17s 74us/step - loss: 0.5363 - acc: 0.8281 - val_loss: 0.7427 - val_acc: 0.7837\n",
      "Epoch 12/20\n",
      "229266/229266 [==============================] - 16s 70us/step - loss: 0.5189 - acc: 0.8323 - val_loss: 0.7506 - val_acc: 0.7843\n",
      "Epoch 13/20\n",
      "229266/229266 [==============================] - 17s 73us/step - loss: 0.5060 - acc: 0.8367 - val_loss: 0.7602 - val_acc: 0.7836\n",
      "Epoch 14/20\n",
      "229266/229266 [==============================] - 17s 76us/step - loss: 0.4917 - acc: 0.8397 - val_loss: 0.7678 - val_acc: 0.7844\n",
      "Epoch 15/20\n",
      "229266/229266 [==============================] - 17s 72us/step - loss: 0.4787 - acc: 0.8441 - val_loss: 0.7806 - val_acc: 0.7855\n",
      "Epoch 16/20\n",
      "229266/229266 [==============================] - 19s 83us/step - loss: 0.4680 - acc: 0.8473 - val_loss: 0.7786 - val_acc: 0.7849\n",
      "Epoch 17/20\n",
      "229266/229266 [==============================] - 18s 77us/step - loss: 0.4570 - acc: 0.8507 - val_loss: 0.7889 - val_acc: 0.7832\n",
      "Epoch 18/20\n",
      "229266/229266 [==============================] - 16s 69us/step - loss: 0.4463 - acc: 0.8537 - val_loss: 0.7920 - val_acc: 0.7859\n",
      "Epoch 19/20\n",
      "229266/229266 [==============================] - 15s 66us/step - loss: 0.4390 - acc: 0.8556 - val_loss: 0.8004 - val_acc: 0.7837\n",
      "Epoch 20/20\n",
      "229266/229266 [==============================] - 17s 76us/step - loss: 0.4299 - acc: 0.8578 - val_loss: 0.8201 - val_acc: 0.7851\n"
     ]
    },
    {
     "data": {
      "image/png": "[encoded data removed]",
      "text/plain": [
       "<Figure size 432x288 with 1 Axes>"
      ]
     },
     "metadata": {
      "needs_background": "light"
     },
     "output_type": "display_data"
    }
   ],
   "source": [
    "####Model building\n",
    "\n",
    "import itertools\n",
    "import os\n",
    "\n",
    "%matplotlib inline\n",
    "import matplotlib.pyplot as plt\n",
    "import numpy as np\n",
    "import pandas as pd\n",
    "import tensorflow as tf\n",
    "\n",
    "from sklearn.preprocessing import LabelBinarizer, LabelEncoder\n",
    "from sklearn.metrics import confusion_matrix\n",
    "\n",
    "from tensorflow import keras\n",
    "from keras.models import Sequential\n",
    "from keras.layers import Dense, Activation, Dropout\n",
    "from keras.layers.normalization import BatchNormalization\n",
    "from keras.preprocessing import text, sequence\n",
    "from keras import utils\n",
    "\n",
    "\n",
    "from nltk.corpus import stopwords\n",
    "import re\n",
    "from bs4 import BeautifulSoup\n",
    "%matplotlib inline\n",
    "\n",
    "train_size = int(len(beauty) * 0.8) \n",
    "train_title = beauty['title'][:train_size] #Takes 70% of the training data to train\n",
    "train_Category = beauty['Category'][:train_size] #Takes 70% of the training data to train\n",
    "\n",
    "eval_title = beauty['title'][train_size:] #Takes remaining 30% of the training data to test\n",
    "eval_Category = beauty['Category'][train_size:] #Takes remaining 30% of the training data to test\n",
    "\n",
    "max_words = 5000\n",
    "tokenize = text.Tokenizer(num_words=max_words, char_level=False)\n",
    "tokenize.fit_on_texts(train_title) # only fit on train\n",
    "\n",
    "x_train = tokenize.texts_to_matrix(train_title)\n",
    "x_eval = tokenize.texts_to_matrix(eval_title)\n",
    "\n",
    "encoder = LabelEncoder()\n",
    "encoder.fit(train_Category)\n",
    "y_train = encoder.transform(train_Category)\n",
    "y_eval = encoder.transform(eval_Category)\n",
    "y_train = train_Category\n",
    "y_eval = eval_Category\n",
    "\n",
    "\n",
    "num_classes = np.max(y_train) - np.min(y_train) + 1\n",
    "y_train = utils.to_categorical(y_train, num_classes)\n",
    "y_eval = utils.to_categorical(y_eval, num_classes)\n",
    "\n",
    "batch_size = 4192\n",
    "epochs = 20\n",
    "\n",
    "# Build the model\n",
    "model = Sequential()\n",
    "model.add(Dense(512, input_shape=(max_words,)))\n",
    "model.add(Activation('relu'))\n",
    "model.add(Dropout(0.5))\n",
    "model.add(Dense(512))\n",
    "model.add(Activation('relu'))\n",
    "model.add(Dropout(0.3))\n",
    "model.add(Dense(512))\n",
    "model.add(Activation('relu'))\n",
    "model.add(Dropout(0.3))\n",
    "model.add(Dense(num_classes))\n",
    "model.add(Activation('softmax'))\n",
    "\n",
    "model.compile(loss='categorical_crossentropy',\n",
    "              optimizer='adam',\n",
    "              metrics=['accuracy'])\n",
    "              \n",
    "history = model.fit(x_train, y_train,\n",
    "                    validation_data=[x_eval, y_eval],\n",
    "                    batch_size=batch_size,\n",
    "                    epochs=epochs,\n",
    "                    verbose=1)\n",
    "\n",
    "def display_training_graph(history):\n",
    "    # summarize history for loss\n",
    "    plt.plot(history.history['val_loss'])\n",
    "    plt.plot(history.history['loss'])\n",
    "    plt.title('model loss')\n",
    "    plt.ylabel('loss')\n",
    "    plt.xlabel('epoch')\n",
    "    plt.legend(['val_loss', 'loss'], loc='upper right')\n",
    "    plt.draw()\n",
    "\n",
    "\n",
    "display_training_graph(history)"
   ]
  },
  {
   "cell_type": "code",
   "execution_count": 4,
   "metadata": {},
   "outputs": [
    {
     "name": "stdout",
     "output_type": "stream",
     "text": [
      "57317/57317 [==============================] - 2s 41us/step\n",
      "Test accuracy: 0.7851073796393839\n"
     ]
    }
   ],
   "source": [
    "### computing training accuracy using inhouse testset\n",
    "\n",
    "score = model.evaluate(x_eval, y_eval,\n",
    "                       batch_size=batch_size, verbose=1)\n",
    "print('Test accuracy:', score[1])"
   ]
  },
  {
   "cell_type": "code",
   "execution_count": null,
   "metadata": {},
   "outputs": [],
   "source": [
    "# ### Predicting using actual testset\n",
    "\n",
    "# test_title = beauty_test['title']\n",
    "# x_test = tokenize.texts_to_matrix(test_title)\n",
    "# score = model.predict(x_test, batch_size=batch_size, verbose=1)"
   ]
  },
  {
   "cell_type": "code",
   "execution_count": null,
   "metadata": {},
   "outputs": [],
   "source": [
    "# #predicting using actual test set\n",
    "# beauty_predict = pd.DataFrame(data=score)\n",
    "# beauty_predict = beauty_predict.idxmax(axis=1)"
   ]
  },
  {
   "cell_type": "code",
   "execution_count": null,
   "metadata": {},
   "outputs": [],
   "source": [
    "# beauty_predict.to_csv('beauty_predict.csv') "
   ]
  },
  {
   "cell_type": "code",
   "execution_count": 5,
   "metadata": {},
   "outputs": [
    {
     "name": "stdout",
     "output_type": "stream",
     "text": [
      "Saved model to disk\n"
     ]
    }
   ],
   "source": [
    "model_json = model.to_json()\n",
    "with open(\"model_beauty_text_final_v3.json\", \"w\") as json_file:\n",
    "    json_file.write(model_json)\n",
    "# serialize weights to HDF5\n",
    "model.save_weights(\"model_beauty_text_final_v3.h5\")\n",
    "print(\"Saved model to disk\")"
   ]
  },
  {
   "cell_type": "code",
   "execution_count": null,
   "metadata": {},
   "outputs": [],
   "source": []
  },
  {
   "cell_type": "code",
   "execution_count": null,
   "metadata": {},
   "outputs": [],
   "source": []
  },
  {
   "cell_type": "code",
   "execution_count": null,
   "metadata": {},
   "outputs": [],
   "source": []
  },
  {
   "cell_type": "code",
   "execution_count": null,
   "metadata": {},
   "outputs": [],
   "source": []
  },
  {
   "cell_type": "code",
   "execution_count": null,
   "metadata": {},
   "outputs": [],
   "source": []
  },
  {
   "cell_type": "code",
   "execution_count": null,
   "metadata": {},
   "outputs": [],
   "source": []
  },
  {
   "cell_type": "code",
   "execution_count": null,
   "metadata": {},
   "outputs": [],
   "source": []
  }
 ],
 "metadata": {
  "kernelspec": {
   "display_name": "TensorFlow-GPU",
   "language": "python",
   "name": "tf-gpu"
  },
  "language_info": {
   "codemirror_mode": {
    "name": "ipython",
    "version": 3
   },
   "file_extension": ".py",
   "mimetype": "text/x-python",
   "name": "python",
   "nbconvert_exporter": "python",
   "pygments_lexer": "ipython3",
   "version": "3.6.8"
  }
 },
 "nbformat": 4,
 "nbformat_minor": 2
}
