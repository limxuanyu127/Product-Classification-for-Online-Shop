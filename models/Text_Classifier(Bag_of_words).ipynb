{
  "nbformat": 4,
  "nbformat_minor": 0,
  "metadata": {
    "colab": {
      "name": "Copy of Text Classifier(Bag of words).ipynb",
      "provenance": [],
      "collapsed_sections": []
    },
    "kernelspec": {
      "name": "python3",
      "display_name": "Python 3"
    },
    "accelerator": "GPU"
  },
  "cells": [
    {
      "cell_type": "code",
      "metadata": {
        "id": "wEnCtIrSTv4B",
        "colab_type": "code",
        "outputId": "cc60ded8-9a50-4feb-9f7e-bd8c29eb0488",
        "colab": {
          "base_uri": "https://localhost:8080/",
          "height": 200
        }
      },
      "source": [
        "!pip install pandas_ml\n",
        "import logging\n",
        "import pandas as pd\n",
        "import numpy as np\n",
        "from numpy import random\n",
        "import gensim\n",
        "import nltk\n",
        "nltk.download('stopwords')\n",
        "from sklearn.model_selection import train_test_split\n",
        "from sklearn.feature_extraction.text import CountVectorizer, TfidfVectorizer\n",
        "from sklearn.metrics import accuracy_score, confusion_matrix\n",
        "import matplotlib.pyplot as plt\n",
        "from nltk.corpus import stopwords\n",
        "import re\n",
        "from bs4 import BeautifulSoup\n",
        "from keras.layers import Dense, Input\n",
        "from keras.layers.merge import concatenate\n",
        "%matplotlib inline\n",
        "import tensorflow as tf\n",
        "tf.test.gpu_device_name()"
      ],
      "execution_count": 0,
      "outputs": [
        {
          "output_type": "stream",
          "text": [
            "Requirement already satisfied: pandas_ml in /usr/local/lib/python3.6/dist-packages (0.6.1)\n",
            "Requirement already satisfied: pandas>=0.19.0 in /usr/local/lib/python3.6/dist-packages (from pandas_ml) (0.22.0)\n",
            "Requirement already satisfied: enum34 in /usr/local/lib/python3.6/dist-packages (from pandas_ml) (1.1.6)\n",
            "Requirement already satisfied: pytz>=2011k in /usr/local/lib/python3.6/dist-packages (from pandas>=0.19.0->pandas_ml) (2018.9)\n",
            "Requirement already satisfied: python-dateutil>=2 in /usr/local/lib/python3.6/dist-packages (from pandas>=0.19.0->pandas_ml) (2.5.3)\n",
            "Requirement already satisfied: numpy>=1.9.0 in /usr/local/lib/python3.6/dist-packages (from pandas>=0.19.0->pandas_ml) (1.14.6)\n",
            "Requirement already satisfied: six>=1.5 in /usr/local/lib/python3.6/dist-packages (from python-dateutil>=2->pandas>=0.19.0->pandas_ml) (1.11.0)\n",
            "[nltk_data] Downloading package stopwords to /root/nltk_data...\n",
            "[nltk_data]   Package stopwords is already up-to-date!\n"
          ],
          "name": "stdout"
        },
        {
          "output_type": "execute_result",
          "data": {
            "text/plain": [
              "'/device:GPU:0'"
            ]
          },
          "metadata": {
            "tags": []
          },
          "execution_count": 53
        }
      ]
    },
    {
      "cell_type": "code",
      "metadata": {
        "id": "UCywt8ROZ_iT",
        "colab_type": "code",
        "colab": {}
      },
      "source": [
        "!pip install -U -q PyDrive\n",
        "from pydrive.auth import GoogleAuth\n",
        "from pydrive.drive import GoogleDrive\n",
        "from google.colab import auth\n",
        "from oauth2client.client import GoogleCredentials\n",
        "# Authenticate and create the PyDrive client.\n",
        "auth.authenticate_user()\n",
        "gauth = GoogleAuth()\n",
        "gauth.credentials = GoogleCredentials.get_application_default()\n",
        "drive = GoogleDrive(gauth)"
      ],
      "execution_count": 0,
      "outputs": []
    },
    {
      "cell_type": "code",
      "metadata": {
        "id": "qgBdjo0Pb30-",
        "colab_type": "code",
        "colab": {}
      },
      "source": [
        "link = 'https://drive.google.com/open?id=1pngW6PI59tM-CvEgeo3-zzttsnwkrZ7j'\n",
        "fluff, id = link.split('=')\n",
        "downloaded = drive.CreateFile({'id':id}) \n",
        "downloaded.GetContentFile('train.csv')  \n",
        "train = pd.read_csv('train.csv')\n",
        "\n",
        "link = 'https://drive.google.com/open?id=11161ODTBOgOax6ZHHhsOgiAue1IyRUI2'\n",
        "fluff, id = link.split('=')\n",
        "downloaded = drive.CreateFile({'id':id}) \n",
        "downloaded.GetContentFile('test.csv')  \n",
        "testset = pd.read_csv('test.csv')\n",
        "\n",
        "link = 'https://drive.google.com/open?id=18BnJN1VZ6ikEuvIvvt86odYrq2ToyKWr'\n",
        "fluff, id = link.split('=')\n",
        "downloaded = drive.CreateFile({'id':id}) \n",
        "downloaded.GetContentFile('train_mobile.csv')  \n",
        "\n"
      ],
      "execution_count": 0,
      "outputs": []
    },
    {
      "cell_type": "code",
      "metadata": {
        "id": "c6hOLAK3DWWA",
        "colab_type": "code",
        "colab": {}
      },
      "source": [
        "beauty_train = train.iloc[:286583]\n",
        "fashion_train = train.iloc[286584:506285]\n",
        "mobile_train = train.iloc[506285:]\n",
        "\n",
        "\n",
        "beauty_test = testset.iloc[:76545]\n",
        "fashion_test = testset.iloc[76545:131985]\n",
        "mobile_test = testset.iloc[131985:]\n",
        "\n",
        "#beauty_train.head()\n",
        "#beauty_train.tail()\n",
        "#fashion_train.head()\n",
        "#fashion_train.tail()\n",
        "#mobile_train.head()\n",
        "#mobile_train.tail()\n",
        "\n"
      ],
      "execution_count": 0,
      "outputs": []
    },
    {
      "cell_type": "code",
      "metadata": {
        "id": "DXcSLgxxsX-w",
        "colab_type": "code",
        "colab": {}
      },
      "source": [
        "####Model building\n",
        "\n",
        "import itertools\n",
        "import os\n",
        "\n",
        "%matplotlib inline\n",
        "import matplotlib.pyplot as plt\n",
        "import numpy as np\n",
        "import pandas as pd\n",
        "import tensorflow as tf\n",
        "\n",
        "from sklearn.preprocessing import LabelBinarizer, LabelEncoder\n",
        "from sklearn.metrics import confusion_matrix\n",
        "\n",
        "from tensorflow import keras\n",
        "from keras.models import Sequential\n",
        "from keras.layers import Dense, Activation, Dropout\n",
        "from keras.preprocessing import text, sequence\n",
        "from keras import utils\n",
        "\n",
        "\n",
        "from nltk.corpus import stopwords\n",
        "import re\n",
        "from bs4 import BeautifulSoup\n",
        "%matplotlib inline\n"
      ],
      "execution_count": 0,
      "outputs": []
    },
    {
      "cell_type": "code",
      "metadata": {
        "id": "_2eUcpVJ2sR_",
        "colab_type": "code",
        "outputId": "75fb19cb-5117-448b-87c5-95b349858f9b",
        "colab": {
          "base_uri": "https://localhost:8080/",
          "height": 47
        }
      },
      "source": [
        "#Data cleaning\n",
        "train['title'] = train.title.str.replace('lip', '')\n",
        "\n",
        "#Double check if cleaned\n",
        "train['Contains'] = train.title.str.contains('lip')\n",
        "train[train['Contains'] == True]\n"
      ],
      "execution_count": 0,
      "outputs": [
        {
          "output_type": "execute_result",
          "data": {
            "text/html": [
              "<div>\n",
              "<style scoped>\n",
              "    .dataframe tbody tr th:only-of-type {\n",
              "        vertical-align: middle;\n",
              "    }\n",
              "\n",
              "    .dataframe tbody tr th {\n",
              "        vertical-align: top;\n",
              "    }\n",
              "\n",
              "    .dataframe thead th {\n",
              "        text-align: right;\n",
              "    }\n",
              "</style>\n",
              "<table border=\"1\" class=\"dataframe\">\n",
              "  <thead>\n",
              "    <tr style=\"text-align: right;\">\n",
              "      <th></th>\n",
              "      <th>itemid</th>\n",
              "      <th>title</th>\n",
              "      <th>Category</th>\n",
              "      <th>image_path</th>\n",
              "      <th>Contains</th>\n",
              "    </tr>\n",
              "  </thead>\n",
              "  <tbody>\n",
              "  </tbody>\n",
              "</table>\n",
              "</div>"
            ],
            "text/plain": [
              "Empty DataFrame\n",
              "Columns: [itemid, title, Category, image_path, Contains]\n",
              "Index: []"
            ]
          },
          "metadata": {
            "tags": []
          },
          "execution_count": 58
        }
      ]
    },
    {
      "cell_type": "code",
      "metadata": {
        "id": "KBXpiH0fzQ1g",
        "colab_type": "code",
        "outputId": "a8e41b21-2a00-4734-eb97-c35ffe17101b",
        "colab": {
          "base_uri": "https://localhost:8080/",
          "height": 33
        }
      },
      "source": [
        "\n",
        "training = beauty_train\n",
        "percentage_split = 1\n",
        "max_words = 1000\n",
        "batch_size = 10000\n",
        "epochs = 20\n",
        "\n",
        "train = training.sample(frac=1).reset_index(drop=True) #Shuffles the rows in the Train.CSV because the rows are arranged neatly in the order of big categories (Beu, Fas, mob)\n",
        "train_size = int(len(train) * percentage_split) \n",
        "train_title = train['title'][:train_size] #Takes 70% of the training data to train\n",
        "train_Category = train['Category'][:train_size] #Takes 70% of the training data to train\n",
        "\n",
        "eval_title = train['title'][train_size:] #Takes remaining 30% of the training data to test\n",
        "eval_Category = train['Category'][train_size:] #Takes remaining 30% of the training data to test\n",
        "\n",
        "train_title = train['title']\n",
        "train_Category = train['Category']\n",
        "\n",
        "tokenize = text.Tokenizer(num_words=max_words, char_level=False)\n",
        "tokenize.fit_on_texts(train_title) # only fit on train\n",
        "\n",
        "x_train = tokenize.texts_to_matrix(train_title)\n",
        "x_eval = tokenize.texts_to_matrix(eval_title)\n",
        "\n",
        "encoder = LabelEncoder()\n",
        "encoder.fit(train_Category)\n",
        "y_train = train_Category\n",
        "y_eval = eval_Category\n",
        "# y_train = encoder.transform(train_Category)\n",
        "# y_eval = encoder.transform(eval_Category)\n",
        "\n",
        "\n",
        "num_classes = np.max(y_train) + 1\n",
        "y_train = utils.to_categorical(y_train, num_classes)\n",
        "y_eval = utils.to_categorical(y_eval, num_classes)\n",
        "\n",
        "\n",
        "print('Found %d unique words.' % len(tokenize.word_index))"
      ],
      "execution_count": 0,
      "outputs": [
        {
          "output_type": "stream",
          "text": [
            "Found 29419 unique words.\n"
          ],
          "name": "stdout"
        }
      ]
    },
    {
      "cell_type": "code",
      "metadata": {
        "id": "UZjmmCjZNqKk",
        "colab_type": "code",
        "outputId": "b36583f1-7051-4f24-f443-061374a8bded",
        "colab": {
          "base_uri": "https://localhost:8080/",
          "height": 488
        }
      },
      "source": [
        "# Build the model\n",
        "model = Sequential()\n",
        "model.add(Dense(512, input_shape=(max_words,)))\n",
        "model.add(Activation('relu'))\n",
        "model.add(Dropout(0.3))\n",
        "model.add(Dense(512))\n",
        "model.add(Activation('relu'))\n",
        "model.add(Dropout(0.3))\n",
        "model.add(Dense(512))\n",
        "model.add(Activation('relu'))\n",
        "model.add(Dropout(0.3))\n",
        "model.add(Dense(num_classes))\n",
        "model.add(Activation('softmax'))\n",
        "model.summary()"
      ],
      "execution_count": 0,
      "outputs": [
        {
          "output_type": "stream",
          "text": [
            "_________________________________________________________________\n",
            "Layer (type)                 Output Shape              Param #   \n",
            "=================================================================\n",
            "dense_17 (Dense)             (None, 512)               512512    \n",
            "_________________________________________________________________\n",
            "activation_17 (Activation)   (None, 512)               0         \n",
            "_________________________________________________________________\n",
            "dropout_13 (Dropout)         (None, 512)               0         \n",
            "_________________________________________________________________\n",
            "dense_18 (Dense)             (None, 512)               262656    \n",
            "_________________________________________________________________\n",
            "activation_18 (Activation)   (None, 512)               0         \n",
            "_________________________________________________________________\n",
            "dropout_14 (Dropout)         (None, 512)               0         \n",
            "_________________________________________________________________\n",
            "dense_19 (Dense)             (None, 512)               262656    \n",
            "_________________________________________________________________\n",
            "activation_19 (Activation)   (None, 512)               0         \n",
            "_________________________________________________________________\n",
            "dropout_15 (Dropout)         (None, 512)               0         \n",
            "_________________________________________________________________\n",
            "dense_20 (Dense)             (None, 17)                8721      \n",
            "_________________________________________________________________\n",
            "activation_20 (Activation)   (None, 17)                0         \n",
            "=================================================================\n",
            "Total params: 1,046,545\n",
            "Trainable params: 1,046,545\n",
            "Non-trainable params: 0\n",
            "_________________________________________________________________\n"
          ],
          "name": "stdout"
        }
      ]
    },
    {
      "cell_type": "code",
      "metadata": {
        "id": "t7rambJNlB4r",
        "colab_type": "code",
        "outputId": "894b9b13-025f-4027-a1a7-41fa8c64a6e8",
        "colab": {
          "base_uri": "https://localhost:8080/",
          "height": 961
        }
      },
      "source": [
        "model.compile(loss='categorical_crossentropy',\n",
        "              optimizer='adam',\n",
        "              metrics=['accuracy'])\n",
        "              \n",
        "history = model.fit(x_train, y_train,\n",
        "                    batch_size=batch_size,\n",
        "                    epochs=epochs,\n",
        "                    verbose=1,\n",
        "                    validation_split=0.1)\n",
        "\n",
        "def display_training_graph(history):\n",
        "    # summarize history for loss\n",
        "    plt.plot(history.history['val_loss'])\n",
        "    plt.plot(history.history['loss'])\n",
        "    plt.title('model loss')\n",
        "    plt.ylabel('loss')\n",
        "    plt.xlabel('epoch')\n",
        "    plt.legend(['val_loss', 'loss'], loc='upper right')\n",
        "    plt.draw()\n",
        "\n",
        "\n",
        "display_training_graph(history)\n"
      ],
      "execution_count": 0,
      "outputs": [
        {
          "output_type": "stream",
          "text": [
            "Train on 257924 samples, validate on 28659 samples\n",
            "Epoch 1/20\n",
            "257924/257924 [==============================] - 4s 15us/step - loss: 1.8574 - acc: 0.4418 - val_loss: 1.2814 - val_acc: 0.6345\n",
            "Epoch 2/20\n",
            "257924/257924 [==============================] - 3s 13us/step - loss: 1.1528 - acc: 0.6737 - val_loss: 0.9947 - val_acc: 0.7094\n",
            "Epoch 3/20\n",
            "257924/257924 [==============================] - 3s 12us/step - loss: 0.9623 - acc: 0.7190 - val_loss: 0.8779 - val_acc: 0.7365\n",
            "Epoch 4/20\n",
            "257924/257924 [==============================] - 3s 12us/step - loss: 0.8727 - acc: 0.7386 - val_loss: 0.8328 - val_acc: 0.7494\n",
            "Epoch 5/20\n",
            "257924/257924 [==============================] - 3s 12us/step - loss: 0.8281 - acc: 0.7491 - val_loss: 0.8039 - val_acc: 0.7559\n",
            "Epoch 6/20\n",
            "257924/257924 [==============================] - 3s 12us/step - loss: 0.7950 - acc: 0.7572 - val_loss: 0.7860 - val_acc: 0.7589\n",
            "Epoch 7/20\n",
            "257924/257924 [==============================] - 3s 12us/step - loss: 0.7706 - acc: 0.7631 - val_loss: 0.7731 - val_acc: 0.7622\n",
            "Epoch 8/20\n",
            "257924/257924 [==============================] - 3s 12us/step - loss: 0.7481 - acc: 0.7691 - val_loss: 0.7616 - val_acc: 0.7659\n",
            "Epoch 9/20\n",
            "257924/257924 [==============================] - 3s 12us/step - loss: 0.7288 - acc: 0.7737 - val_loss: 0.7562 - val_acc: 0.7677\n",
            "Epoch 10/20\n",
            "257924/257924 [==============================] - 3s 12us/step - loss: 0.7107 - acc: 0.7789 - val_loss: 0.7464 - val_acc: 0.7695\n",
            "Epoch 11/20\n",
            "257924/257924 [==============================] - 3s 12us/step - loss: 0.6927 - acc: 0.7835 - val_loss: 0.7434 - val_acc: 0.7720\n",
            "Epoch 12/20\n",
            "257924/257924 [==============================] - 3s 12us/step - loss: 0.6768 - acc: 0.7869 - val_loss: 0.7407 - val_acc: 0.7728\n",
            "Epoch 13/20\n",
            "257924/257924 [==============================] - 3s 12us/step - loss: 0.6607 - acc: 0.7914 - val_loss: 0.7372 - val_acc: 0.7736\n",
            "Epoch 14/20\n",
            "257924/257924 [==============================] - 3s 12us/step - loss: 0.6482 - acc: 0.7952 - val_loss: 0.7368 - val_acc: 0.7756\n",
            "Epoch 15/20\n",
            "257924/257924 [==============================] - 3s 12us/step - loss: 0.6356 - acc: 0.7987 - val_loss: 0.7358 - val_acc: 0.7751\n",
            "Epoch 16/20\n",
            "257924/257924 [==============================] - 3s 12us/step - loss: 0.6220 - acc: 0.8024 - val_loss: 0.7369 - val_acc: 0.7754\n",
            "Epoch 17/20\n",
            "257924/257924 [==============================] - 3s 12us/step - loss: 0.6097 - acc: 0.8050 - val_loss: 0.7382 - val_acc: 0.7759\n",
            "Epoch 18/20\n",
            "257924/257924 [==============================] - 3s 12us/step - loss: 0.5982 - acc: 0.8079 - val_loss: 0.7413 - val_acc: 0.7760\n",
            "Epoch 19/20\n",
            "257924/257924 [==============================] - 3s 12us/step - loss: 0.5895 - acc: 0.8108 - val_loss: 0.7425 - val_acc: 0.7743\n",
            "Epoch 20/20\n",
            "257924/257924 [==============================] - 3s 12us/step - loss: 0.5794 - acc: 0.8137 - val_loss: 0.7440 - val_acc: 0.7768\n"
          ],
          "name": "stdout"
        },
        {
          "output_type": "display_data",
          "data": {
            "image/png": "[encoded data removed]",
            "text/plain": [
              "<Figure size 432x288 with 1 Axes>"
            ]
          },
          "metadata": {
            "tags": []
          }
        }
      ]
    },
    {
      "cell_type": "markdown",
      "metadata": {
        "id": "ICHjGvOPiBzF",
        "colab_type": "text"
      },
      "source": [
        "**SAVE MODEL** "
      ]
    },
    {
      "cell_type": "code",
      "metadata": {
        "id": "tvqGogeviACE",
        "colab_type": "code",
        "outputId": "ff8cb6f1-07f2-4c18-94f3-bd6d6030236c",
        "colab": {
          "base_uri": "https://localhost:8080/",
          "height": 33
        }
      },
      "source": [
        "model_json = model.to_json()\n",
        "with open(\"beauty_model.json\", \"w\") as json_file:\n",
        "  json_file.write(model_json)\n",
        "model.save_weights(\"beauty_model.h5\")\n",
        "print(\"Saved model to disk\")\n",
        "\n",
        "from google.colab import files\n",
        "files.download('beauty_model.h5')\n",
        "files.download('beauty_model.json')"
      ],
      "execution_count": 0,
      "outputs": [
        {
          "output_type": "stream",
          "text": [
            "Saved model to disk\n"
          ],
          "name": "stdout"
        }
      ]
    },
    {
      "cell_type": "markdown",
      "metadata": {
        "id": "usQdXIMoiTxS",
        "colab_type": "text"
      },
      "source": [
        "**EVALUATION SCORE** "
      ]
    },
    {
      "cell_type": "code",
      "metadata": {
        "id": "KpjrDL3tOeKR",
        "colab_type": "code",
        "colab": {}
      },
      "source": [
        "### computing training accuracy using inhouse testset\n",
        "\n",
        "evaluation_score = model.evaluate(x_eval, y_eval,\n",
        "                       batch_size=batch_size, verbose=1)\n",
        "print('Test accuracy:', evaluation_score[1])"
      ],
      "execution_count": 0,
      "outputs": []
    },
    {
      "cell_type": "markdown",
      "metadata": {
        "id": "P8fd666_q7cT",
        "colab_type": "text"
      },
      "source": [
        "**confusion matrix**"
      ]
    },
    {
      "cell_type": "code",
      "metadata": {
        "id": "MSjXRurxODB0",
        "colab_type": "code",
        "colab": {}
      },
      "source": [
        "#predicting evaluation set\n",
        "predict_train = x_train\n",
        "\n",
        "\n",
        "train_predict = model.predict(predict_train, batch_size=batch_size, verbose=1)\n",
        "train_predict = pd.DataFrame(data=train_predict)\n",
        "train_predict = train_predict.idxmax(axis=1)\n",
        "train_predict"
      ],
      "execution_count": 0,
      "outputs": []
    },
    {
      "cell_type": "code",
      "metadata": {
        "id": "2082WWC8itO2",
        "colab_type": "code",
        "colab": {}
      },
      "source": [
        "returns a evaluation(20% unseen training set) comparision between y_eval(answer) and y_predict(prediction)\n",
        "predict_label = y_train\n",
        "\n",
        "predict_label = pd.DataFrame(data=predict_label)\n",
        "predict_label = predict_label.idxmax(axis=1)\n",
        "comparison = pd.concat([train_predict, predict_label ], axis=1)\n",
        "comparison\n"
      ],
      "execution_count": 0,
      "outputs": []
    },
    {
      "cell_type": "code",
      "metadata": {
        "id": "M-KmhrRcJIYr",
        "colab_type": "code",
        "colab": {}
      },
      "source": [
        "from sklearn.metrics import confusion_matrix\n",
        "comparison.columns = ['Predict', 'Category1']\n",
        "y_pred = comparison.Predict.tolist()\n",
        "y_true = comparison.Category1.tolist()\n",
        "y_pred = np.asarray(y_pred)\n",
        "y_true = np.asarray(y_true)\n",
        "cm = np.zeros((17, 17), dtype=int)\n",
        "np.add.at(cm, [y_true, y_pred], 1)\n",
        "cm\n",
        "cmdf = pd.DataFrame(data=cm)\n",
        "cmdf\n",
        "\n",
        "# cmdf.to_csv('beauty_cm_lesslip.csv')\n",
        "# from google.colab import files\n",
        "# files.download('beauty_cm_lesslip.csv')\n"
      ],
      "execution_count": 0,
      "outputs": []
    },
    {
      "cell_type": "code",
      "metadata": {
        "id": "IbbxTxGZFko8",
        "colab_type": "code",
        "colab": {}
      },
      "source": [
        "#WORD LENGTH\n",
        "import seaborn as sns\n",
        "pd.set_option('max_colwidth', 150)\n",
        "\n",
        "merged = pd.concat([comparison, train], axis=1)\n",
        "output = merged[merged['Category1'] != merged['Predict']]\n",
        "output['strlen'] = output.title.str.split()\n",
        "output['wordlen'] = output[\"strlen\"].apply(lambda x: len(x))\n",
        "output = output.sort_values(by=['wordlen'])\n",
        "output\n",
        "\n",
        "plt.figure(figsize=(20,6))\n",
        "plot = sns.countplot(x='wordlen', data=output)\n",
        "plt.title('-- %', fontsize= 20)\n",
        "ax = plot.axes"
      ],
      "execution_count": 0,
      "outputs": []
    },
    {
      "cell_type": "code",
      "metadata": {
        "id": "SXMILM-Mfb_R",
        "colab_type": "code",
        "outputId": "793d9adf-889b-4d44-eb99-110bf82efe6f",
        "colab": {
          "base_uri": "https://localhost:8080/",
          "height": 462
        }
      },
      "source": [
        "import seaborn as sns\n",
        "pd.set_option('max_colwidth', 150)\n",
        "\n",
        "merged = pd.concat([comparison, train], axis=1)\n",
        "# output = merged[merged['Category1'] != merged['Predict']]\n",
        "output = merged\n",
        "output['Contains'] = output.title.str.contains('liner')\n",
        "output = output[output['Contains'] == True]\n",
        "\n",
        "\n",
        "plt.figure(figsize=(20,6))\n",
        "plot = sns.countplot(x='Category1', data=output)\n",
        "plt.title('-- %', fontsize= 20)\n",
        "ax = plot.axes\n"
      ],
      "execution_count": 0,
      "outputs": [
        {
          "output_type": "stream",
          "text": [
            "/usr/local/lib/python3.6/dist-packages/seaborn/categorical.py:1428: FutureWarning: remove_na is deprecated and is a private function. Do not use.\n",
            "  stat_data = remove_na(group_data)\n"
          ],
          "name": "stderr"
        },
        {
          "output_type": "display_data",
          "data": {
            "image/png": "[encoded data removed]",
            "text/plain": [
              "<Figure size 1440x432 with 1 Axes>"
            ]
          },
          "metadata": {
            "tags": []
          }
        }
      ]
    },
    {
      "cell_type": "code",
      "metadata": {
        "id": "WV2RBli3jjZK",
        "colab_type": "code",
        "colab": {}
      },
      "source": [
        "#wrong entries\n",
        "comparison['que'] = np.where(comparison.iloc[:, 0] != comparison.iloc[:, 1], 1, 0 )\n",
        "comparison = comparison[comparison.que == 1]\n",
        "comparison = comparison.iloc[:,[0,2]]\n",
        "comparison.columns = ['1', '2']\n",
        "excel = comparison['1'].value_counts()\n",
        "excel\n"
      ],
      "execution_count": 0,
      "outputs": []
    },
    {
      "cell_type": "code",
      "metadata": {
        "id": "ERWUFCNvESMx",
        "colab_type": "code",
        "colab": {}
      },
      "source": [
        "excel.to_csv('excel.csv') \n",
        "from google.colab import files\n",
        "files.download('excel.csv')\n",
        "\n"
      ],
      "execution_count": 0,
      "outputs": []
    },
    {
      "cell_type": "markdown",
      "metadata": {
        "id": "NNmQZ-ZQ14Kn",
        "colab_type": "text"
      },
      "source": [
        "**Predicting actual testset**"
      ]
    },
    {
      "cell_type": "code",
      "metadata": {
        "id": "AaiZYeBcw3AZ",
        "colab_type": "code",
        "colab": {}
      },
      "source": [
        "### Predicting using actual testset\n",
        "\n",
        "testing = fashion_test\n",
        "\n",
        "\n",
        "test_title = testing['title']\n",
        "x_test = tokenize.texts_to_matrix(test_title)\n",
        "test_predict = model.predict(x_test, batch_size=batch_size, verbose=1)\n",
        "test_predict = pd.DataFrame(data=test_predict)\n",
        "test_predict = test_predict.idxmax(axis=1)\n",
        "test_predict"
      ],
      "execution_count": 0,
      "outputs": []
    },
    {
      "cell_type": "code",
      "metadata": {
        "id": "wQsoqWxyJ3b2",
        "colab_type": "code",
        "colab": {}
      },
      "source": [
        "#Download prediction classes given test set\n",
        "test_predict.to_csv('predict.csv') \n",
        "from google.colab import files\n",
        "files.download('predict.csv')\n"
      ],
      "execution_count": 0,
      "outputs": []
    },
    {
      "cell_type": "code",
      "metadata": {
        "id": "hXXc4P4pyHNl",
        "colab_type": "code",
        "colab": {}
      },
      "source": [
        ""
      ],
      "execution_count": 0,
      "outputs": []
    }
  ]
}
