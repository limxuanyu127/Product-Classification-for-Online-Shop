{
 "cells": [
  {
   "cell_type": "code",
   "execution_count": 1,
   "metadata": {},
   "outputs": [
    {
     "name": "stderr",
     "output_type": "stream",
     "text": [
      "C:\\Users\\ZhiQi\\Anaconda3\\lib\\site-packages\\gensim\\utils.py:1197: UserWarning: detected Windows; aliasing chunkize to chunkize_serial\n",
      "  warnings.warn(\"detected Windows; aliasing chunkize to chunkize_serial\")\n",
      "Using TensorFlow backend.\n"
     ]
    },
    {
     "data": {
      "text/plain": [
       "'/device:GPU:0'"
      ]
     },
     "execution_count": 1,
     "metadata": {},
     "output_type": "execute_result"
    }
   ],
   "source": [
    "import logging\n",
    "import pandas as pd\n",
    "import numpy as np\n",
    "from numpy import random\n",
    "import gensim\n",
    "import nltk\n",
    "from sklearn.model_selection import train_test_split\n",
    "from sklearn.feature_extraction.text import CountVectorizer, TfidfVectorizer\n",
    "from sklearn.metrics import accuracy_score, confusion_matrix\n",
    "import matplotlib.pyplot as plt\n",
    "from nltk.corpus import stopwords\n",
    "import re\n",
    "from bs4 import BeautifulSoup\n",
    "from keras.layers import Dense, Input\n",
    "from keras.layers.merge import concatenate\n",
    "%matplotlib inline\n",
    "import tensorflow as tf\n",
    "tf.test.gpu_device_name()"
   ]
  },
  {
   "cell_type": "code",
   "execution_count": 2,
   "metadata": {},
   "outputs": [
    {
     "data": {
      "text/html": [
       "<div>\n",
       "<style scoped>\n",
       "    .dataframe tbody tr th:only-of-type {\n",
       "        vertical-align: middle;\n",
       "    }\n",
       "\n",
       "    .dataframe tbody tr th {\n",
       "        vertical-align: top;\n",
       "    }\n",
       "\n",
       "    .dataframe thead th {\n",
       "        text-align: right;\n",
       "    }\n",
       "</style>\n",
       "<table border=\"1\" class=\"dataframe\">\n",
       "  <thead>\n",
       "    <tr style=\"text-align: right;\">\n",
       "      <th></th>\n",
       "      <th>itemid</th>\n",
       "      <th>title</th>\n",
       "      <th>Category</th>\n",
       "      <th>image_path</th>\n",
       "    </tr>\n",
       "  </thead>\n",
       "  <tbody>\n",
       "    <tr>\n",
       "      <th>506285</th>\n",
       "      <td>2346660</td>\n",
       "      <td>apple iphone 4s back glass spare part original...</td>\n",
       "      <td>31</td>\n",
       "      <td>mobile_image/a9c8f0fdd6587deed197634066cf7eee.jpg</td>\n",
       "    </tr>\n",
       "    <tr>\n",
       "      <th>506286</th>\n",
       "      <td>2816338</td>\n",
       "      <td>iphone 4s 64gb white</td>\n",
       "      <td>31</td>\n",
       "      <td>mobile_image/3b9a11608551b11b9330268e0d055e01.jpg</td>\n",
       "    </tr>\n",
       "    <tr>\n",
       "      <th>506287</th>\n",
       "      <td>2847602</td>\n",
       "      <td>samsung sm b310e piton dual sim</td>\n",
       "      <td>32</td>\n",
       "      <td>mobile_image/1d719e936841a83c165da620f927de68.jpg</td>\n",
       "    </tr>\n",
       "    <tr>\n",
       "      <th>506288</th>\n",
       "      <td>3116949</td>\n",
       "      <td>samsung caramel gt e1272 dual sim 32 mb putih</td>\n",
       "      <td>32</td>\n",
       "      <td>mobile_image/1d35a74d90df6cf4a02e6a5df9e9ff29.jpg</td>\n",
       "    </tr>\n",
       "    <tr>\n",
       "      <th>506289</th>\n",
       "      <td>3794648</td>\n",
       "      <td>garskin sony experia z z1 z2 ultra</td>\n",
       "      <td>33</td>\n",
       "      <td>mobile_image/5556577b09539a9c0db0d00e0f171e2d.jpg</td>\n",
       "    </tr>\n",
       "  </tbody>\n",
       "</table>\n",
       "</div>"
      ],
      "text/plain": [
       "         itemid                                              title  Category  \\\n",
       "506285  2346660  apple iphone 4s back glass spare part original...        31   \n",
       "506286  2816338                               iphone 4s 64gb white        31   \n",
       "506287  2847602                    samsung sm b310e piton dual sim        32   \n",
       "506288  3116949      samsung caramel gt e1272 dual sim 32 mb putih        32   \n",
       "506289  3794648                 garskin sony experia z z1 z2 ultra        33   \n",
       "\n",
       "                                               image_path  \n",
       "506285  mobile_image/a9c8f0fdd6587deed197634066cf7eee.jpg  \n",
       "506286  mobile_image/3b9a11608551b11b9330268e0d055e01.jpg  \n",
       "506287  mobile_image/1d719e936841a83c165da620f927de68.jpg  \n",
       "506288  mobile_image/1d35a74d90df6cf4a02e6a5df9e9ff29.jpg  \n",
       "506289  mobile_image/5556577b09539a9c0db0d00e0f171e2d.jpg  "
      ]
     },
     "execution_count": 2,
     "metadata": {},
     "output_type": "execute_result"
    }
   ],
   "source": [
    "train_set = pd.read_csv('train.csv')\n",
    "\n",
    "mobile = train_set.iloc[506285:]\n",
    " \n",
    "testset = pd.read_csv('test.csv')\n",
    "mobile_test = testset.iloc[131985:]\n",
    "mobile.head()"
   ]
  },
  {
   "cell_type": "code",
   "execution_count": 3,
   "metadata": {},
   "outputs": [
    {
     "name": "stdout",
     "output_type": "stream",
     "text": [
      "Train on 128264 samples, validate on 32066 samples\n",
      "Epoch 1/40\n",
      "128264/128264 [==============================] - 4s 31us/step - loss: 3.0058 - acc: 0.2491 - val_loss: 1.9273 - val_acc: 0.5033\n",
      "Epoch 2/40\n",
      "128264/128264 [==============================] - 2s 15us/step - loss: 1.6194 - acc: 0.5501 - val_loss: 1.2318 - val_acc: 0.6672\n",
      "Epoch 3/40\n",
      "128264/128264 [==============================] - 2s 15us/step - loss: 1.1652 - acc: 0.6975 - val_loss: 1.0026 - val_acc: 0.7375\n",
      "Epoch 4/40\n",
      "128264/128264 [==============================] - 2s 14us/step - loss: 0.9916 - acc: 0.7370 - val_loss: 0.9049 - val_acc: 0.7540\n",
      "Epoch 5/40\n",
      "128264/128264 [==============================] - 2s 14us/step - loss: 0.8984 - acc: 0.7580 - val_loss: 0.8359 - val_acc: 0.7663\n",
      "Epoch 6/40\n",
      "128264/128264 [==============================] - 2s 15us/step - loss: 0.8309 - acc: 0.7681 - val_loss: 0.7962 - val_acc: 0.7722\n",
      "Epoch 7/40\n",
      "128264/128264 [==============================] - 2s 15us/step - loss: 0.7794 - acc: 0.7788 - val_loss: 0.7551 - val_acc: 0.7818\n",
      "Epoch 8/40\n",
      "128264/128264 [==============================] - 2s 14us/step - loss: 0.7332 - acc: 0.7892 - val_loss: 0.7207 - val_acc: 0.7885\n",
      "Epoch 9/40\n",
      "128264/128264 [==============================] - 2s 14us/step - loss: 0.6940 - acc: 0.7975 - val_loss: 0.7026 - val_acc: 0.7946\n",
      "Epoch 10/40\n",
      "128264/128264 [==============================] - 2s 15us/step - loss: 0.6642 - acc: 0.8038 - val_loss: 0.6858 - val_acc: 0.7974\n",
      "Epoch 11/40\n",
      "128264/128264 [==============================] - 2s 14us/step - loss: 0.6371 - acc: 0.8093 - val_loss: 0.6719 - val_acc: 0.8009\n",
      "Epoch 12/40\n",
      "128264/128264 [==============================] - 2s 14us/step - loss: 0.6150 - acc: 0.8149 - val_loss: 0.6635 - val_acc: 0.8031\n",
      "Epoch 13/40\n",
      "128264/128264 [==============================] - 2s 14us/step - loss: 0.5939 - acc: 0.8205 - val_loss: 0.6507 - val_acc: 0.8050\n",
      "Epoch 14/40\n",
      "128264/128264 [==============================] - 2s 14us/step - loss: 0.5715 - acc: 0.8259 - val_loss: 0.6462 - val_acc: 0.8072\n",
      "Epoch 15/40\n",
      "128264/128264 [==============================] - 2s 15us/step - loss: 0.5545 - acc: 0.8313 - val_loss: 0.6454 - val_acc: 0.8085\n",
      "Epoch 16/40\n",
      "128264/128264 [==============================] - 2s 14us/step - loss: 0.5361 - acc: 0.8368 - val_loss: 0.6430 - val_acc: 0.8098\n",
      "Epoch 17/40\n",
      "128264/128264 [==============================] - 2s 15us/step - loss: 0.5150 - acc: 0.8430 - val_loss: 0.6402 - val_acc: 0.8120\n",
      "Epoch 18/40\n",
      "128264/128264 [==============================] - 2s 15us/step - loss: 0.4983 - acc: 0.8476 - val_loss: 0.6441 - val_acc: 0.8133\n",
      "Epoch 19/40\n",
      "128264/128264 [==============================] - 2s 14us/step - loss: 0.4832 - acc: 0.8524 - val_loss: 0.6368 - val_acc: 0.8143\n",
      "Epoch 20/40\n",
      "128264/128264 [==============================] - 2s 14us/step - loss: 0.4645 - acc: 0.8581 - val_loss: 0.6381 - val_acc: 0.8153\n",
      "Epoch 21/40\n",
      "128264/128264 [==============================] - 2s 14us/step - loss: 0.4481 - acc: 0.8628 - val_loss: 0.6441 - val_acc: 0.8164\n",
      "Epoch 22/40\n",
      "128264/128264 [==============================] - 2s 15us/step - loss: 0.4340 - acc: 0.8674 - val_loss: 0.6463 - val_acc: 0.8161\n",
      "Epoch 23/40\n",
      "128264/128264 [==============================] - 2s 15us/step - loss: 0.4195 - acc: 0.8704 - val_loss: 0.6552 - val_acc: 0.8167\n",
      "Epoch 24/40\n",
      "128264/128264 [==============================] - 2s 15us/step - loss: 0.4069 - acc: 0.8745 - val_loss: 0.6550 - val_acc: 0.8162\n",
      "Epoch 25/40\n",
      "128264/128264 [==============================] - 2s 15us/step - loss: 0.3944 - acc: 0.8796 - val_loss: 0.6713 - val_acc: 0.8176\n",
      "Epoch 26/40\n",
      "128264/128264 [==============================] - 2s 15us/step - loss: 0.3831 - acc: 0.8812 - val_loss: 0.6679 - val_acc: 0.8182\n",
      "Epoch 27/40\n",
      "128264/128264 [==============================] - 2s 16us/step - loss: 0.3706 - acc: 0.8846 - val_loss: 0.6729 - val_acc: 0.8157\n",
      "Epoch 28/40\n",
      "128264/128264 [==============================] - 2s 14us/step - loss: 0.3620 - acc: 0.8873 - val_loss: 0.6842 - val_acc: 0.8169\n",
      "Epoch 29/40\n",
      "128264/128264 [==============================] - 2s 14us/step - loss: 0.3542 - acc: 0.8906 - val_loss: 0.6857 - val_acc: 0.8154\n",
      "Epoch 30/40\n",
      "128264/128264 [==============================] - 2s 14us/step - loss: 0.3445 - acc: 0.8917 - val_loss: 0.6972 - val_acc: 0.8174\n",
      "Epoch 31/40\n",
      "128264/128264 [==============================] - 2s 15us/step - loss: 0.3341 - acc: 0.8963 - val_loss: 0.7115 - val_acc: 0.8177\n",
      "Epoch 32/40\n",
      "128264/128264 [==============================] - 2s 14us/step - loss: 0.3266 - acc: 0.8983 - val_loss: 0.7186 - val_acc: 0.8190\n",
      "Epoch 33/40\n",
      "128264/128264 [==============================] - 2s 14us/step - loss: 0.3184 - acc: 0.9002 - val_loss: 0.7227 - val_acc: 0.8177\n",
      "Epoch 34/40\n",
      "128264/128264 [==============================] - 2s 15us/step - loss: 0.3112 - acc: 0.9019 - val_loss: 0.7316 - val_acc: 0.8169\n",
      "Epoch 35/40\n",
      "128264/128264 [==============================] - 2s 15us/step - loss: 0.3050 - acc: 0.9048 - val_loss: 0.7303 - val_acc: 0.8162\n",
      "Epoch 36/40\n",
      "128264/128264 [==============================] - 2s 14us/step - loss: 0.2996 - acc: 0.9057 - val_loss: 0.7404 - val_acc: 0.8171\n",
      "Epoch 37/40\n",
      "128264/128264 [==============================] - 2s 14us/step - loss: 0.2931 - acc: 0.9077 - val_loss: 0.7514 - val_acc: 0.8177\n",
      "Epoch 38/40\n",
      "128264/128264 [==============================] - 2s 14us/step - loss: 0.2896 - acc: 0.9083 - val_loss: 0.7552 - val_acc: 0.8172\n",
      "Epoch 39/40\n",
      "128264/128264 [==============================] - 2s 14us/step - loss: 0.2837 - acc: 0.9106 - val_loss: 0.7605 - val_acc: 0.8160\n",
      "Epoch 40/40\n",
      "128264/128264 [==============================] - 2s 14us/step - loss: 0.2791 - acc: 0.9122 - val_loss: 0.7695 - val_acc: 0.8162\n"
     ]
    },
    {
     "data": {
      "image/png": "[encoded data removed]",
      "text/plain": [
       "<Figure size 432x288 with 1 Axes>"
      ]
     },
     "metadata": {
      "needs_background": "light"
     },
     "output_type": "display_data"
    }
   ],
   "source": [
    "####Model building\n",
    "\n",
    "import itertools\n",
    "import os\n",
    "\n",
    "%matplotlib inline\n",
    "import matplotlib.pyplot as plt\n",
    "import numpy as np\n",
    "import pandas as pd\n",
    "import tensorflow as tf\n",
    "\n",
    "from sklearn.preprocessing import LabelBinarizer, LabelEncoder\n",
    "from sklearn.metrics import confusion_matrix\n",
    "\n",
    "from tensorflow import keras\n",
    "from keras.models import Sequential\n",
    "from keras.layers import Dense, Activation, Dropout\n",
    "from keras.preprocessing import text, sequence\n",
    "from keras import utils\n",
    "\n",
    "\n",
    "from nltk.corpus import stopwords\n",
    "import re\n",
    "from bs4 import BeautifulSoup\n",
    "%matplotlib inline\n",
    "\n",
    "train_size = int(len(mobile)) \n",
    "train_title = mobile['title'][:train_size] #Takes 70% of the training data to train\n",
    "train_Category = mobile['Category'][:train_size] #Takes 70% of the training data to train\n",
    "\n",
    "eval_title = mobile['title'][train_size:] #Takes remaining 30% of the training data to test\n",
    "eval_Category = mobile['Category'][train_size:] #Takes remaining 30% of the training data to test\n",
    "\n",
    "train_title = mobile['title']\n",
    "train_Category = mobile['Category']\n",
    "\n",
    "max_words = 12000\n",
    "tokenize = text.Tokenizer(num_words=max_words, char_level=False)\n",
    "tokenize.fit_on_texts(train_title) # only fit on train\n",
    "\n",
    "x_train = tokenize.texts_to_matrix(train_title)\n",
    "x_eval = tokenize.texts_to_matrix(eval_title)\n",
    "\n",
    "encoder = LabelEncoder()\n",
    "encoder.fit(train_Category)\n",
    "y_train = encoder.transform(train_Category)\n",
    "y_eval = encoder.transform(eval_Category)\n",
    "y_train = train_Category\n",
    "y_eval = eval_Category\n",
    "\n",
    "\n",
    "num_classes = np.max(y_train) + 1\n",
    "y_train = utils.to_categorical(y_train, num_classes)\n",
    "y_eval = utils.to_categorical(y_eval, num_classes)\n",
    "\n",
    "batch_size = 10000\n",
    "epochs = 80\n",
    "\n",
    "# Build the model\n",
    "model = Sequential()\n",
    "model.add(Dense(512, input_shape=(max_words,)))\n",
    "model.add(Activation('relu'))\n",
    "model.add(Dropout(0.14))\n",
    "model.add(Dense(512))\n",
    "model.add(Activation('relu'))\n",
    "model.add(Dropout(0.35))\n",
    "model.add(Dense(512))\n",
    "model.add(Activation('relu'))\n",
    "model.add(Dropout(0.5))\n",
    "model.add(Dense(num_classes))\n",
    "model.add(Activation('softmax'))\n",
    "\n",
    "model.compile(loss='categorical_crossentropy',\n",
    "              optimizer='adam',\n",
    "              metrics=['accuracy'])\n",
    "              \n",
    "history = model.fit(x_train, y_train,\n",
    "                    batch_size=batch_size,\n",
    "                    epochs=epochs,\n",
    "                    verbose=1,\n",
    "                    validation_split=0.2)\n",
    "\n",
    "def display_training_graph(history):\n",
    "    # summarize history for loss\n",
    "    plt.plot(history.history['val_loss'])\n",
    "    plt.plot(history.history['loss'])\n",
    "    plt.title('model loss')\n",
    "    plt.ylabel('loss')\n",
    "    plt.xlabel('epoch')\n",
    "    plt.legend(['val_loss', 'loss'], loc='upper right')\n",
    "    plt.draw()\n",
    "\n",
    "\n",
    "display_training_graph(history)"
   ]
  },
  {
   "cell_type": "code",
   "execution_count": 4,
   "metadata": {},
   "outputs": [
    {
     "name": "stdout",
     "output_type": "stream",
     "text": [
      "48099/48099 [==============================] - 1s 20us/step\n",
      "Test accuracy: 0.856816139253956\n"
     ]
    }
   ],
   "source": [
    "### computing training accuracy using inhouse testset\n",
    "\n",
    "score = model.evaluate(x_eval, y_eval,\n",
    "                       batch_size=batch_size, verbose=1)\n",
    "print('Test accuracy:', score[1])"
   ]
  },
  {
   "cell_type": "code",
   "execution_count": 4,
   "metadata": {},
   "outputs": [
    {
     "name": "stdout",
     "output_type": "stream",
     "text": [
      "40417/40417 [==============================] - 8s 208us/step\n"
     ]
    }
   ],
   "source": [
    "### Predicting using actual testset\n",
    "\n",
    "test_title = mobile_test['title']\n",
    "x_test = tokenize.texts_to_matrix(test_title)\n",
    "score = model.predict(x_test, batch_size=batch_size, verbose=1)"
   ]
  },
  {
   "cell_type": "code",
   "execution_count": 5,
   "metadata": {},
   "outputs": [],
   "source": [
    "#predicting using actual test set\n",
    "mobile_predict = pd.DataFrame(data=score)\n",
    "mobile_predict = mobile_predict.idxmax(axis=1)"
   ]
  },
  {
   "cell_type": "code",
   "execution_count": 6,
   "metadata": {},
   "outputs": [
    {
     "name": "stderr",
     "output_type": "stream",
     "text": [
      "C:\\Users\\ZhiQi\\Anaconda3\\lib\\site-packages\\ipykernel_launcher.py:1: FutureWarning: The signature of `Series.to_csv` was aligned to that of `DataFrame.to_csv`, and argument 'header' will change its default value from False to True: please pass an explicit value to suppress this warning.\n",
      "  \"\"\"Entry point for launching an IPython kernel.\n"
     ]
    }
   ],
   "source": [
    "mobile_predict.to_csv('mobile_predict.csv') "
   ]
  },
  {
   "cell_type": "code",
   "execution_count": null,
   "metadata": {},
   "outputs": [],
   "source": [
    "model_json = model.to_json()\n",
    "with open(\"model_mobile_text.json\", \"w\") as json_file:\n",
    "    json_file.write(model_json)\n",
    "# serialize weights to HDF5\n",
    "model.save_weights(\"model_mobile_text.h5\")\n",
    "print(\"Saved model to disk\")"
   ]
  }
 ],
 "metadata": {
  "kernelspec": {
   "display_name": "Python 3",
   "language": "python",
   "name": "python3"
  },
  "language_info": {
   "codemirror_mode": {
    "name": "ipython",
    "version": 3
   },
   "file_extension": ".py",
   "mimetype": "text/x-python",
   "name": "python",
   "nbconvert_exporter": "python",
   "pygments_lexer": "ipython3",
   "version": "3.6.8"
  }
 },
 "nbformat": 4,
 "nbformat_minor": 2
}
