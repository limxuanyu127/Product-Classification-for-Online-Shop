{
  "nbformat": 4,
  "nbformat_minor": 0,
  "metadata": {
    "colab": {
      "name": "xy_common_words_fashion",
      "provenance": []
    },
    "kernelspec": {
      "name": "python3",
      "display_name": "Python 3"
    }
  },
  "cells": [
    {
      "cell_type": "code",
      "metadata": {
        "id": "95OU6XqAR4Xp",
        "colab_type": "code",
        "colab": {}
      },
      "source": [
        "import glob\n",
        "\n",
        "# Importing drive method from colab for accessing google drive\n",
        "from google.colab import drive"
      ],
      "execution_count": 0,
      "outputs": []
    },
    {
      "cell_type": "code",
      "metadata": {
        "id": "6wRyxNMUR59p",
        "colab_type": "code",
        "colab": {}
      },
      "source": [
        "# Mounting drive\n",
        "# This will require authentication : Follow the steps as guided\n",
        "drive.mount('/content/drive')"
      ],
      "execution_count": 0,
      "outputs": []
    },
    {
      "cell_type": "code",
      "metadata": {
        "id": "NKSBTeZYQ6di",
        "colab_type": "code",
        "colab": {}
      },
      "source": [
        "train = pd.read_csv('/content/drive/My Drive/NDSC/data/train.csv')\n",
        "\n",
        "beauty_df = train.iloc[:286583].reset_index()\n",
        "fashion_df = train.iloc[286584:506285].reset_index()\n",
        "mobile_df = train.iloc[506285:].reset_index()"
      ],
      "execution_count": 0,
      "outputs": []
    },
    {
      "cell_type": "code",
      "metadata": {
        "id": "JrHBsvQMQrrt",
        "colab_type": "code",
        "colab": {}
      },
      "source": [
        "face_pal = beauty_train.loc[beauty_train['Category'] == 0]\n",
        "face_pal_top_words = pd.Series(' '.join(face_pal['title']).lower().split()).value_counts()[:100]\n",
        "\n",
        "foundation = beauty_train.loc[beauty_train['Category'] == 1]\n",
        "foundation_top_words = pd.Series(' '.join(foundation['title']).lower().split()).value_counts()[:100]\n",
        "\n",
        "blush = beauty_train.loc[beauty_train['Category'] == 2]\n",
        "blush_top_words = pd.Series(' '.join(blush['title']).lower().split()).value_counts()[:100]\n",
        "\n",
        "powder = beauty_train.loc[beauty_train['Category'] == 3]\n",
        "powder_top_words = pd.Series(' '.join(powder['title']).lower().split()).value_counts()[:100]\n",
        "\n",
        "other_face = beauty_train.loc[beauty_train['Category'] == 4]\n",
        "other_face_top_words = pd.Series(' '.join(other_face['title']).lower().split()).value_counts()[:100]\n",
        "\n",
        "cream = beauty_train.loc[beauty_train['Category'] == 5]\n",
        "cream_top_words = pd.Series(' '.join(cream['title']).lower().split()).value_counts()[:100]\n",
        "\n",
        "contour = beauty_train.loc[beauty_train['Category'] == 6]\n",
        "contour_top_words = pd.Series(' '.join(contour['title']).lower().split()).value_counts()[:100]\n",
        "\n",
        "concealer = beauty_train.loc[beauty_train['Category'] == 7]\n",
        "concealer_top_words = pd.Series(' '.join(concealer['title']).lower().split()).value_counts()[:100]\n",
        "\n",
        "highlighter = beauty_train.loc[beauty_train['Category'] == 8]\n",
        "highlighter_top_words = pd.Series(' '.join(highlighter['title']).lower().split()).value_counts()[:100]\n",
        "\n",
        "primer = beauty_train.loc[beauty_train['Category'] == 9]\n",
        "primer_top_words = pd.Series(' '.join(primer['title']).lower().split()).value_counts()[:100]\n",
        "\n",
        "spray = beauty_train.loc[beauty_train['Category'] == 10]\n",
        "spray_top_words = pd.Series(' '.join(spray['title']).lower().split()).value_counts()[:100]\n",
        "\n",
        "bronzer = beauty_train.loc[beauty_train['Category'] == 11]\n",
        "bronzer_top_words = pd.Series(' '.join(bronzer['title']).lower().split()).value_counts()[:100]\n",
        "\n",
        "lipstick = beauty_train.loc[beauty_train['Category'] == 12]\n",
        "lipstick_top_words = pd.Series(' '.join(lipstick['title']).lower().split()).value_counts()[:100]\n",
        "\n",
        "liptint = beauty_train.loc[beauty_train['Category'] == 13]\n",
        "liptint_top_words = pd.Series(' '.join(liptint['title']).lower().split()).value_counts()[:100]\n",
        "\n",
        "lipgloss = beauty_train.loc[beauty_train['Category'] == 14]\n",
        "lipgloss_top_words = pd.Series(' '.join(lipgloss['title']).lower().split()).value_counts()[:100]\n",
        "\n",
        "lipliner = beauty_train.loc[beauty_train['Category'] == 15]\n",
        "lipliner_top_words = pd.Series(' '.join(lipliner['title']).lower().split()).value_counts()[:100]\n",
        "\n",
        "otherlip = beauty_train.loc[beauty_train['Category'] == 16]\n",
        "otherlip_top_words = pd.Series(' '.join(otherlip['title']).lower().split()).value_counts()[:100]\n",
        "\n",
        "\n",
        "# set1 = pd.DataFrame()\n",
        "# set1 = set1.append([powder,other_face,cream],ignore_index = True)\n",
        "# pd.DataFrame.to_csv(set1,\"beauty_set1_lessTop.csv\")\n",
        "beauty_top_words = pd.concat([face_pal_top_words,foundation_top_words,blush_top_words,powder_top_words,other_face_top_words,cream_top_words,contour_top_words,concealer_top_words,highlighter_top_words,primer_top_words,spray_top_words,bronzer_top_words,lipstick_top_words,liptint_top_words,lipgloss_top_words,lipliner_top_words,otherlip_top_words], axis=1)\n",
        "pd.DataFrame.to_csv(beauty_top_words,\"beauty_top_words.csv\")\n",
        "files.download(\"beauty_top_words_.csv\")"
      ],
      "execution_count": 0,
      "outputs": []
    },
    {
      "cell_type": "code",
      "metadata": {
        "id": "cpr0donyR4-t",
        "colab_type": "code",
        "colab": {}
      },
      "source": [
        ""
      ],
      "execution_count": 0,
      "outputs": []
    },
    {
      "cell_type": "code",
      "metadata": {
        "id": "1y8pmOavR5FN",
        "colab_type": "code",
        "colab": {}
      },
      "source": [
        ""
      ],
      "execution_count": 0,
      "outputs": []
    }
  ]
}
